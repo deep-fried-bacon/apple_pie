{
 "cells": [
  {
   "cell_type": "code",
   "execution_count": 1,
   "metadata": {},
   "outputs": [],
   "source": [
    "## ScatLegend is based off a barplot legend widget written by DougRzz\n",
    "## original code from https://github.com/DougRzz/Vaex-demo-notebook/blob/master/VAEX_interactive.ipynb\n",
    "## github author: DougRzz https://github.com/DougRzz "
   ]
  },
  {
   "cell_type": "code",
   "execution_count": 2,
   "metadata": {},
   "outputs": [],
   "source": [
    "import numpy as np\n",
    "import ipywidgets as widgets\n",
    "import bqplot as bq\n",
    "from IPython.display import display as idisp"
   ]
  },
  {
   "cell_type": "code",
   "execution_count": 5,
   "metadata": {},
   "outputs": [],
   "source": [
    "class ScatLegend(object):\n",
    "    \"\"\"\n",
    "    A legend widget using a horizontal bar chart for marks made of Scatter\n",
    "    \n",
    "    fig: fig with scatter marks \n",
    "    \n",
    "    marks must have legend labels \n",
    "    (in mark, remove other legend by using: display_legend = False)\n",
    "    \n",
    "    usage:\n",
    "        legend = ScatLegend(fig) \n",
    "        hb = ipywidgets.HBox(legend,fig)\n",
    "        IPython.display.display(hb)\n",
    "    \"\"\"\n",
    "    \n",
    "    OPAC_DIM = 0.1     ## opacity values\n",
    "    OPAC_BRIGHT = 1\n",
    "    \n",
    "    \n",
    "    def __init__(self, lineFig):\n",
    "        \"\"\"\n",
    "        \"\"\"\n",
    "        \n",
    "        self.lineFig = lineFig\n",
    "        self.marks = self.lineFig.marks\n",
    "        y_ord = bq.OrdinalScale()\n",
    "        x_sc = bq.LinearScale()\n",
    "        \n",
    "        legendLabels = []\n",
    "        self.colours = [] \n",
    "        for mark in self.marks:            \n",
    "            legendLabels += mark.labels\n",
    "            self.colours += mark.colors[:len(mark.labels)]\n",
    "\n",
    "        self.bars = bq.Bars(\n",
    "            y=[1]*len(legendLabels) , # all bars have a amplitude of 1    ## ?\n",
    "            x=legendLabels, \n",
    "            scales={'y': x_sc, 'x': y_ord},\n",
    "            colors=self.colours ,\n",
    "            padding = 0.6,\n",
    "            orientation='horizontal',\n",
    "            stroke = 'white')  ## remove the black border around the bar\n",
    "            \n",
    "        \n",
    "        \n",
    "        self.bars.opacities = [ScatLegend.OPAC_BRIGHT] * len(self.bars.x)\n",
    "        \n",
    "        ax_y = bq.Axis(scale=y_ord, orientation=\"vertical\")\n",
    "        ax_x = bq.Axis(scale=x_sc)\n",
    "        ax_x.visible = False\n",
    "        margin = dict(top=40, bottom=0, left=110, right=5)\n",
    "        self.fig = bq.Figure(marks=[self.bars], axes=[ax_y, ax_x], fig_margin=margin)\n",
    "        \n",
    "        # Variable height depending on number of bars in legend\n",
    "        self.fig.layout.height = str(45 + 20 * len(legendLabels)) + 'px'\n",
    "        self.fig.layout.width = '170px'\n",
    "\n",
    "        self.fig.min_aspect_ratio = 0.000000000001 # effectively remove aspect ratio constraint\n",
    "        self.fig.max_aspect_ratio = 999999999999999 # effectively remove aspect ratio constraint\n",
    "        self.fig.background_style = {'fill': 'White'}   \n",
    "                    \n",
    "        self.bars.on_element_click(self.changeOpacity)\n",
    "\n",
    "        \n",
    "    def changeOpacity(self, bars, target):\n",
    "        \"\"\"\n",
    "        \"\"\"\n",
    "        sigNum = target['data']['index']\n",
    "\n",
    "        if bars.opacities[sigNum] == ScatLegend.OPAC_BRIGHT :\n",
    "            bars.opacities=bars.opacities[:sigNum] + [ScatLegend.OPAC_DIM] + bars.opacities[sigNum+1:]\n",
    "            self.marks[sigNum].visible = False\n",
    "        else:\n",
    "            bars.opacities=bars.opacities[:sigNum] + [ScatLegend.OPAC_BRIGHT] + bars.opacities[sigNum+1:] \n",
    "            self.marks[sigNum].visible = True    \n",
    "   \n"
   ]
  }
 ],
 "metadata": {
  "hide_input": false,
  "kernelspec": {
   "display_name": "Python 3",
   "language": "python",
   "name": "python3"
  },
  "language_info": {
   "codemirror_mode": {
    "name": "ipython",
    "version": 3
   },
   "file_extension": ".py",
   "mimetype": "text/x-python",
   "name": "python",
   "nbconvert_exporter": "python",
   "pygments_lexer": "ipython3",
   "version": "3.7.1"
  },
  "varInspector": {
   "cols": {
    "lenName": 16,
    "lenType": 16,
    "lenVar": 40
   },
   "kernels_config": {
    "python": {
     "delete_cmd_postfix": "",
     "delete_cmd_prefix": "del ",
     "library": "var_list.py",
     "varRefreshCmd": "print(var_dic_list())"
    },
    "r": {
     "delete_cmd_postfix": ") ",
     "delete_cmd_prefix": "rm(",
     "library": "var_list.r",
     "varRefreshCmd": "cat(var_dic_list()) "
    }
   },
   "types_to_exclude": [
    "module",
    "function",
    "builtin_function_or_method",
    "instance",
    "_Feature"
   ],
   "window_display": false
  }
 },
 "nbformat": 4,
 "nbformat_minor": 2
}
