{
 "cells": [
  {
   "cell_type": "code",
   "execution_count": 3,
   "metadata": {},
   "outputs": [
    {
     "name": "stdout",
     "output_type": "stream",
     "text": [
      "reading in wells : 0.72 seconds\n",
      "all exper init : 1.33 seconds\n"
     ]
    }
   ],
   "source": [
    "%run ./import_ap.ipynb\n",
    "\n",
    "\n",
    "import apple_pie as ap\n",
    "import brutils\n",
    "\n",
    "import matplotlib.pyplot as plt\n",
    "import pandas as pd\n",
    "import pprint\n",
    "\n",
    "\n",
    "exp = ap.make_cur_exper()\n"
   ]
  },
  {
   "cell_type": "code",
   "execution_count": 8,
   "metadata": {},
   "outputs": [
    {
     "data": {
      "text/plain": [
       "['issue_log',\n",
       " 'path',\n",
       " 'name',\n",
       " 'pm_file_path',\n",
       " 'condit_dict',\n",
       " 'csv_path',\n",
       " 'condit_dist_path',\n",
       " 'condit_dist_plot_path',\n",
       " 'wells',\n",
       " 'condits',\n",
       " 'control',\n",
       " 'cstr_tup_dict',\n",
       " 'groups']"
      ]
     },
     "execution_count": 8,
     "metadata": {},
     "output_type": "execute_result"
    }
   ],
   "source": [
    "list(exp.__dict__.keys())"
   ]
  },
  {
   "cell_type": "code",
   "execution_count": 9,
   "metadata": {},
   "outputs": [
    {
     "data": {
      "text/plain": [
       "['exper',\n",
       " 'name',\n",
       " 'name_str',\n",
       " 'wells',\n",
       " 'dists',\n",
       " 'cell_count',\n",
       " 'time_point_count',\n",
       " 't_int',\n",
       " '_smooth_dists',\n",
       " '_cleaned_dists',\n",
       " '_dist_meds',\n",
       " '_dist_means',\n",
       " '_cleaned_dist_meds',\n",
       " '_cleaned_dist_means',\n",
       " '_coords',\n",
       " '_coord_cols',\n",
       " '_dead_col',\n",
       " '_live_col',\n",
       " '_none_col',\n",
       " '_dist_mean_mean',\n",
       " '_norm_dist_means',\n",
       " '_norm_mean_mean']"
      ]
     },
     "execution_count": 9,
     "metadata": {},
     "output_type": "execute_result"
    }
   ],
   "source": [
    "list(exp.control.__dict__.keys())"
   ]
  },
  {
   "cell_type": "code",
   "execution_count": 10,
   "metadata": {},
   "outputs": [
    {
     "data": {
      "text/plain": [
       "['__module__',\n",
       " '__doc__',\n",
       " 'DEAD_CUTOFF',\n",
       " 'DEAD_FRAME_COUNT',\n",
       " 'UPPER_CUTOFF',\n",
       " '__init__',\n",
       " 'norm_dist_means',\n",
       " 'norm_mean_mean',\n",
       " 'dist_mean_mean',\n",
       " 'out_plot_a',\n",
       " 'out_dists_to_csv',\n",
       " 'out_to_sheet',\n",
       " 'out_dists_to_sheet',\n",
       " 'out_cleaned_dists_to_sheet',\n",
       " 'helper_xlsx_formats',\n",
       " 'make_coords',\n",
       " 'make_death_counts',\n",
       " 'record_issue',\n",
       " 'init_dists_old',\n",
       " 'init_dists',\n",
       " 'init_fix_dists_zeros',\n",
       " 'init_trim_dists',\n",
       " 'init_trim_dist_ends',\n",
       " 'init_trim_dist_starts',\n",
       " 'init_remove_upper_outliers',\n",
       " '__str__',\n",
       " '__repr__',\n",
       " 'smooth_dists',\n",
       " 'smooth_dist',\n",
       " 'cleaned_dists',\n",
       " 'dist_meds',\n",
       " 'dist_means',\n",
       " 'cleaned_dist_meds',\n",
       " 'cleaned_dist_means',\n",
       " 'coords',\n",
       " 'coord_cols',\n",
       " 'dead_col',\n",
       " 'live_col',\n",
       " 'none_col',\n",
       " '__dict__',\n",
       " '__weakref__']"
      ]
     },
     "execution_count": 10,
     "metadata": {},
     "output_type": "execute_result"
    }
   ],
   "source": [
    "list(ap.Condit.__dict__.keys())"
   ]
  },
  {
   "cell_type": "code",
   "execution_count": 11,
   "metadata": {},
   "outputs": [
    {
     "data": {
      "text/plain": [
       "['__module__',\n",
       " '__doc__',\n",
       " 'LOG_FILE_SUF',\n",
       " 'PLATE_MAP_SUF',\n",
       " 'CSV_DIR',\n",
       " 'CSV_EXT',\n",
       " 'CONDIT_DIST_DIR',\n",
       " 'CONDIT_DIST_PLOT_DIR',\n",
       " 'CONDIT_DIST_SUF',\n",
       " 'EXPER_DIST_SUF',\n",
       " 'EXPER_DIST_SUF2',\n",
       " 'EXPER_DIST_SUF_MEDS',\n",
       " 'COLS_5',\n",
       " 'COLS_5_DICT',\n",
       " 'COL_COUNT',\n",
       " 'NAME_DELIM',\n",
       " 'CONTROL_PAT',\n",
       " '__init__',\n",
       " 'init_groups',\n",
       " '_init_groups',\n",
       " 'out_meds_to_xlsx',\n",
       " '_meds_to_xlsx',\n",
       " 'out_plot_a',\n",
       " 'init_paths_pm',\n",
       " 'init_wells',\n",
       " 'init_condits',\n",
       " 'init_cstr_tup_dict',\n",
       " 'init_control',\n",
       " 'helper_indentify_control',\n",
       " 'helper_xlsx_formats',\n",
       " 'out_dists_to_xlsx',\n",
       " 'out_smooth_dists_to_xlsx',\n",
       " 'out_issue_log',\n",
       " 'helper_find_file_easy',\n",
       " 'helper_find_file',\n",
       " 'in_plate_map',\n",
       " 'helper_process_table',\n",
       " 'make_t_int',\n",
       " '__dict__',\n",
       " '__weakref__']"
      ]
     },
     "execution_count": 11,
     "metadata": {},
     "output_type": "execute_result"
    }
   ],
   "source": [
    "list(ap.Exper.__dict__.keys())"
   ]
  },
  {
   "cell_type": "code",
   "execution_count": null,
   "metadata": {},
   "outputs": [],
   "source": []
  }
 ],
 "metadata": {
  "kernelspec": {
   "display_name": "Python 3",
   "language": "python",
   "name": "python3"
  },
  "language_info": {
   "codemirror_mode": {
    "name": "ipython",
    "version": 3
   },
   "file_extension": ".py",
   "mimetype": "text/x-python",
   "name": "python",
   "nbconvert_exporter": "python",
   "pygments_lexer": "ipython3",
   "version": "3.7.2"
  }
 },
 "nbformat": 4,
 "nbformat_minor": 2
}
