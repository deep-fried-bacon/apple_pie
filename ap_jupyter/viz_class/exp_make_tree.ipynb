{
 "cells": [
  {
   "cell_type": "code",
   "execution_count": 1,
   "metadata": {},
   "outputs": [
    {
     "name": "stdout",
     "output_type": "stream",
     "text": [
      "/Users/baylieslab/Documents/Amelia/code/ap/ap_jupyter\n",
      "reading in wells : 0.92 seconds\n",
      "all exper init : 1.67 seconds\n"
     ]
    }
   ],
   "source": [
    "%cd /Users/baylieslab/Documents/Amelia/code/ap/ap_jupyter\n",
    "\n",
    "%run ./import_ap.ipynb\n",
    "# %run ./ScatLegend.ipynb\n",
    "from scatLegend import ScatLegend\n",
    "import os\n",
    "exp = ap.Exper(os.path.abspath('./18-11-09'))"
   ]
  },
  {
   "cell_type": "code",
   "execution_count": 2,
   "metadata": {},
   "outputs": [],
   "source": [
    "from graphviz import Digraph"
   ]
  },
  {
   "cell_type": "code",
   "execution_count": 3,
   "metadata": {},
   "outputs": [],
   "source": [
    "d = exp.__dict__"
   ]
  },
  {
   "cell_type": "code",
   "execution_count": 4,
   "metadata": {},
   "outputs": [
    {
     "name": "stdout",
     "output_type": "stream",
     "text": [
      "issue_log\n",
      "1\n",
      "path\n",
      "62\n",
      "name\n",
      "8\n",
      "pm_file_path\n",
      "90\n",
      "condit_dict\n",
      "61\n",
      "csv_path\n",
      "66\n",
      "condit_dist_path\n",
      "83\n",
      "condit_dist_plot_path\n",
      "89\n",
      "wells\n",
      "215\n",
      "condits\n",
      "60\n",
      "control\n",
      "oh\n",
      "cstr_tup_dict\n",
      "60\n",
      "groups\n",
      "5\n",
      "{<class 'dict'>: 6, <class 'str'>: 6, <class 'apple_pie.condit.Condit'>: 1}\n"
     ]
    }
   ],
   "source": [
    "count_dict = {}\n",
    "for k in d.keys() :\n",
    "    print(k)\n",
    "    t = type(d[k])\n",
    "    #print(t)\n",
    "    try :\n",
    "        print(len(d[k]))\n",
    "    except :\n",
    "        print('oh')\n",
    "    if t in count_dict :\n",
    "        count_dict[t] += 1\n",
    "    else :\n",
    "        count_dict[t] = 1\n",
    "        \n",
    "        \n",
    "print(count_dict)\n"
   ]
  },
  {
   "cell_type": "code",
   "execution_count": 5,
   "metadata": {},
   "outputs": [],
   "source": [
    "from anytree import Node, RenderTree\n",
    "from anytree.exporter import DotExporter\n",
    "from IPython.display import Image, display\n",
    "from graphviz import render, Source\n"
   ]
  },
  {
   "cell_type": "code",
   "execution_count": 53,
   "metadata": {},
   "outputs": [
    {
     "name": "stdout",
     "output_type": "stream",
     "text": [
      "18-11-09\n",
      "├── BYL \n",
      "│   ├── BYL _20.0\n",
      "│   ├── BYL _10.0\n",
      "│   ├── BYL _5.0\n",
      "│   ├── BYL _2.5\n",
      "│   ├── BYL _1.25\n",
      "│   ├── BYL _0.625\n",
      "│   ├── BYL _0.3125\n",
      "│   ├── BYL _0.15625\n",
      "│   ├── BYL _0.078125\n",
      "│   ├── BYL _0.0390625\n",
      "│   ├── BYL _0.01953125\n",
      "│   └── BYL _0.009765625\n",
      "├── IKK \n",
      "│   ├── IKK _20.0\n",
      "│   ├── IKK _15.38461538\n",
      "│   ├── IKK _11.83431953\n",
      "│   ├── IKK _9.103322713\n",
      "│   ├── IKK _7.002555933\n",
      "│   ├── IKK _5.386581487\n",
      "│   ├── IKK _4.143524221\n",
      "│   ├── IKK _3.187326324\n",
      "│   ├── IKK _2.45178948\n",
      "│   ├── IKK _1.885991907\n",
      "│   ├── IKK _1.450763006\n",
      "│   └── IKK _1.115971543\n",
      "├── PI-103\n",
      "│   ├── PI-103_20.0\n",
      "│   ├── PI-103_10.0\n",
      "│   ├── PI-103_5.0\n",
      "│   ├── PI-103_2.5\n",
      "│   ├── PI-103_1.25\n",
      "│   ├── PI-103_0.625\n",
      "│   ├── PI-103_0.3125\n",
      "│   ├── PI-103_0.15625\n",
      "│   ├── PI-103_0.078125\n",
      "│   ├── PI-103_0.0390625\n",
      "│   ├── PI-103_0.01953125\n",
      "│   └── PI-103_0.009765625\n",
      "├── Tram\n",
      "│   ├── Tram_20.0\n",
      "│   ├── Tram_10.0\n",
      "│   ├── Tram_5.0\n",
      "│   ├── Tram_2.5\n",
      "│   ├── Tram_1.25\n",
      "│   ├── Tram_0.625\n",
      "│   ├── Tram_0.3125\n",
      "│   ├── Tram_0.15625\n",
      "│   ├── Tram_0.078125\n",
      "│   ├── Tram_0.0390625\n",
      "│   ├── Tram_0.01953125\n",
      "│   └── Tram_0.009765625\n",
      "└── Bardox\n",
      "    ├── Bardox_20.0\n",
      "    ├── Bardox_10.0\n",
      "    ├── Bardox_5.0\n",
      "    ├── Bardox_2.5\n",
      "    ├── Bardox_1.25\n",
      "    ├── Bardox_0.625\n",
      "    ├── Bardox_0.3125\n",
      "    ├── Bardox_0.15625\n",
      "    ├── Bardox_0.078125\n",
      "    ├── Bardox_0.0390625\n",
      "    ├── Bardox_0.01953125\n",
      "    └── Bardox_0.009765625\n"
     ]
    }
   ],
   "source": [
    "def make_tree(exp) :\n",
    "    root = Node(exp.name)\n",
    "    for gname, group in exp.groups.items() :\n",
    "        gnode = Node(gname, parent=root)\n",
    "        for condit in group.condits.values() :\n",
    "            Node(condit.name_str, parent=gnode)\n",
    "    #print(RenderTree(root))\n",
    "    for pre, _, node in RenderTree(root):\n",
    "        print(\"%s%s\" % (pre, node.name))\n",
    "#     DotExporter(root).to_picture('butts.png')\n",
    "\n",
    "#     blerg = '\\n'.join(DotExporter(root))\n",
    "#     src = Source(blerg)  \n",
    "#     src.engine = 'fdp'\n",
    "#     #src.render('butts.gv', view=True)\n",
    "#     display(src)\n",
    "\n",
    "#     display(Image('butts.png'))\n",
    "make_tree(exp)\n"
   ]
  },
  {
   "cell_type": "code",
   "execution_count": null,
   "metadata": {},
   "outputs": [],
   "source": []
  }
 ],
 "metadata": {
  "kernelspec": {
   "display_name": "Python 3",
   "language": "python",
   "name": "python3"
  },
  "language_info": {
   "codemirror_mode": {
    "name": "ipython",
    "version": 3
   },
   "file_extension": ".py",
   "mimetype": "text/x-python",
   "name": "python",
   "nbconvert_exporter": "python",
   "pygments_lexer": "ipython3",
   "version": "3.7.2"
  }
 },
 "nbformat": 4,
 "nbformat_minor": 2
}
