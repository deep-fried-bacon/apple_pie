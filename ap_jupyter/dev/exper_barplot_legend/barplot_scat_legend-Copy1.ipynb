{
 "cells": [
  {
   "cell_type": "code",
   "execution_count": 1,
   "metadata": {},
   "outputs": [],
   "source": [
    "## need to cite original author (originally titled Vaex Demo)"
   ]
  },
  {
   "cell_type": "code",
   "execution_count": 1,
   "metadata": {},
   "outputs": [],
   "source": [
    "import numpy as np\n",
    "import ipywidgets as widgets\n",
    "import bqplot as bq\n",
    "from IPython.display import display as idisp"
   ]
  },
  {
   "cell_type": "code",
   "execution_count": 4,
   "metadata": {},
   "outputs": [],
   "source": [
    "class ScatLegend(object):\n",
    "    \"\"\"\n",
    "    A legend Widget using a horizontal bar chart\n",
    "    \n",
    "    marks: line marks from a bqplot figure.  \n",
    "    \n",
    "    These line marks must have legend labels \n",
    "    (in line mark, remove other legend by using this: display_legend = False)\n",
    "    e.g. >>> legend = legendWidget(fig.marks) \n",
    "    \n",
    "    BQplot module imported as bq (import bqplot as bq)\n",
    "    \"\"\"\n",
    "    OPAC_DIM = 0.1     # opacity values\n",
    "    OPAC_BRIGHT = 1\n",
    "    \n",
    "    def __init__(self, lineFig):\n",
    "        \"\"\"\n",
    "        \"\"\"\n",
    "        \n",
    "        self.lineFig = lineFig\n",
    "        self.marks = self.lineFig.marks\n",
    "        y_ord = bq.OrdinalScale()\n",
    "        x_sc = bq.LinearScale()\n",
    "        \n",
    "        legendLabels = []\n",
    "        self.colours = []\n",
    "        self.markLineNums = [] # record number of lines per mark\n",
    "        for mark in self.marks:            \n",
    "            legendLabels += mark.labels\n",
    "            self.colours += mark.colors[:len(mark.labels)]\n",
    "            self.markLineNums.append(len(mark.labels))  \n",
    "            \n",
    "            \n",
    "\n",
    "        self.bars = bq.Bars(\n",
    "            y=[1]*len(legendLabels) , # all bars have a amplitude of 1\n",
    "            x=legendLabels, \n",
    "            scales={'y': x_sc, 'x': y_ord},\n",
    "            colors=self.colours ,\n",
    "            padding = 0.6,\n",
    "            orientation='horizontal',\n",
    "            stroke = 'white'  #remove the black border around the bar\n",
    "            )\n",
    "        \n",
    "        self.bars.opacities = [ScatLegend.OPAC_BRIGHT] * len(self.bars.x)\n",
    "        \n",
    "        ax_y = bq.Axis(scale=y_ord, orientation=\"vertical\")\n",
    "        ax_x = bq.Axis(scale=x_sc)\n",
    "        ax_x.visible = False\n",
    "        margin = dict(top=40, bottom=0, left=110, right=5)\n",
    "        self.fig = bq.Figure(marks=[self.bars], axes=[ax_y, ax_x], fig_margin=margin)\n",
    "        \n",
    "        # Variable height depending on number of bars in legend\n",
    "        self.fig.layout.height = str(45 + 20 * len(legendLabels)) + 'px'\n",
    "        self.fig.layout.width = '170px'\n",
    "\n",
    "        self.fig.min_aspect_ratio = 0.000000000001 # effectively remove aspect ratio constraint\n",
    "        self.fig.max_aspect_ratio = 999999999999999 # effectively remove aspect ratio constraint\n",
    "        self.fig.background_style = {'fill': 'White'}   \n",
    "                    \n",
    "\n",
    "        self.bars.on_element_click(self.changeOpacity)\n",
    "\n",
    "        \n",
    "    \n",
    "    \n",
    "    def matchLegendOpacities2FigMarks(self) :\n",
    "        for m in range(len(self.marks)) :\n",
    "            #count = len(self.marks[m].y)\n",
    "            #self.marks[m].opacities = [self.bars.opacities[m]]*count\n",
    "            #if self.bars.opacities[m] \n",
    "            pass#self.marks[m].visible = \n",
    "\n",
    "    def changeOpacity(self, bars, target):\n",
    "        \"\"\"\n",
    "        Enable legend interactivity. \n",
    "        Use in conjunction with class legendWidget(object) \n",
    "        Click on legend bar to toggle opacity of all other lines\n",
    "        \"\"\"\n",
    "        \n",
    "        #opacity = 0.1   # set opacity of non selected lines here\n",
    "        sigNum = target['data']['index']\n",
    "#         if bars.opacities == [] :\n",
    "            #bars.opacities = [ScatLegend.OPAC_BRIGHT] * len(bars.x)\n",
    "\n",
    "        if bars.opacities[sigNum] == ScatLegend.OPAC_BRIGHT :\n",
    "            bars.opacities=bars.opacities[:sigNum] + [ScatLegend.OPAC_DIM] + bars.opacities[sigNum+1:]\n",
    "            self.marks[sigNum].visible = False\n",
    "        else:\n",
    "            bars.opacities=bars.opacities[:sigNum] + [ScatLegend.OPAC_BRIGHT] + bars.opacities[sigNum+1:] \n",
    "            self.marks[sigNum].visible = True\n",
    "\n",
    "\n",
    "\n",
    " \n",
    "    \n",
    "        "
   ]
  },
  {
   "cell_type": "code",
   "execution_count": 2,
   "metadata": {},
   "outputs": [],
   "source": [
    "## random data to plot\n",
    "size = 100\n",
    "scale = 1.\n",
    "scaleLocal = 20\n",
    "np.random.seed(0)\n",
    "x_data = np.arange(size)\n",
    "y_data = np.cumsum(np.random.randn(size)  * scale) + np.random.randn(size) * scaleLocal\n",
    "\n",
    "np.random.seed(1)\n",
    "scaleLocal2 = 3\n",
    "y_data2 = np.cumsum(np.random.randn(size)  * scale) + np.random.randn(size) * scaleLocal2\n",
    "y_data3 = np.cumsum(np.random.randn(size)  * scale) + np.random.randn(size)"
   ]
  },
  {
   "cell_type": "code",
   "execution_count": 3,
   "metadata": {},
   "outputs": [],
   "source": [
    "## create lines and figure\n",
    "x_sc = bq.LinearScale()\n",
    "y_sc = bq.LinearScale()\n",
    "y_sc2 = bq.LinearScale()\n",
    "\n",
    "ax_x = bq.Axis(label='X', scale=x_sc, grid_lines='solid')\n",
    "ax_y = bq.Axis(label='Y', scale=y_sc, orientation='vertical', grid_lines='solid')\n",
    "ax_y2 = bq.Axis(label='2nd Y', scale=y_sc2, orientation='vertical', side = 'right', visible = False,grid_lines='none')\n",
    "\n",
    "line1 = bq.Scatter(x=x_data, y=y_data, scales={'x': x_sc, 'y': y_sc} , colors=['blue'],display_legend = False, labels=['y1'],stroke_width = 1.0)\n",
    "\n",
    "line2 = bq.Scatter(x=x_data, y=y_data2, scales={'x': x_sc, 'y': y_sc} , colors=['darkgreen'],display_legend = False, labels=['y2'],stroke_width = 1.0)\n",
    "\n",
    "margins = dict(top = 50, bottom=40, left=50, right=50)\n",
    "fig = bq.Figure(marks = [line1,line2], axes=[ax_x, ax_y] , \n",
    "fig_margin = margins , animation_duration=1000)\n",
    "fig.layout.width = '98%'\n",
    "fig.layout.height = '400px' \n",
    "fig.title = 'Barplot'"
   ]
  },
  {
   "cell_type": "code",
   "execution_count": 5,
   "metadata": {
    "scrolled": false
   },
   "outputs": [
    {
     "data": {
      "application/vnd.jupyter.widget-view+json": {
       "model_id": "511686cb4a724b31b3aded5c202cc160",
       "version_major": 2,
       "version_minor": 0
      },
      "text/plain": [
       "HBox(children=(Figure(axes=[Axis(orientation='vertical', scale=OrdinalScale()), Axis(scale=LinearScale(), visi…"
      ]
     },
     "metadata": {},
     "output_type": "display_data"
    }
   ],
   "source": [
    "legend = ScatLegend(fig)        \n",
    "fig_legend = widgets.HBox([legend.fig,fig])\n",
    "fig_legend.height='400px'\n",
    "idisp(fig_legend)\n"
   ]
  },
  {
   "cell_type": "code",
   "execution_count": null,
   "metadata": {},
   "outputs": [],
   "source": []
  },
  {
   "cell_type": "code",
   "execution_count": null,
   "metadata": {},
   "outputs": [],
   "source": []
  }
 ],
 "metadata": {
  "hide_input": false,
  "kernelspec": {
   "display_name": "Python 3",
   "language": "python",
   "name": "python3"
  },
  "language_info": {
   "codemirror_mode": {
    "name": "ipython",
    "version": 3
   },
   "file_extension": ".py",
   "mimetype": "text/x-python",
   "name": "python",
   "nbconvert_exporter": "python",
   "pygments_lexer": "ipython3",
   "version": "3.7.1"
  },
  "varInspector": {
   "cols": {
    "lenName": 16,
    "lenType": 16,
    "lenVar": 40
   },
   "kernels_config": {
    "python": {
     "delete_cmd_postfix": "",
     "delete_cmd_prefix": "del ",
     "library": "var_list.py",
     "varRefreshCmd": "print(var_dic_list())"
    },
    "r": {
     "delete_cmd_postfix": ") ",
     "delete_cmd_prefix": "rm(",
     "library": "var_list.r",
     "varRefreshCmd": "cat(var_dic_list()) "
    }
   },
   "types_to_exclude": [
    "module",
    "function",
    "builtin_function_or_method",
    "instance",
    "_Feature"
   ],
   "window_display": false
  }
 },
 "nbformat": 4,
 "nbformat_minor": 2
}
