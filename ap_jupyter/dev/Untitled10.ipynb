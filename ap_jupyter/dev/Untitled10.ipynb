{
 "cells": [
  {
   "cell_type": "code",
   "execution_count": 42,
   "metadata": {},
   "outputs": [],
   "source": [
    "import traceback\n",
    "import sys\n",
    "\n",
    "import pprint\n"
   ]
  },
  {
   "cell_type": "code",
   "execution_count": 50,
   "metadata": {},
   "outputs": [
    {
     "name": "stdout",
     "output_type": "stream",
     "text": [
      "dict_keys(['__repr__', '__getattribute__', '__setattr__', '__delattr__', 'clear', '__sizeof__', 'f_back', 'f_code', 'f_builtins', 'f_globals', 'f_lasti', 'f_trace_lines', 'f_trace_opcodes', 'f_locals', 'f_lineno', 'f_trace', '__doc__'])\n",
      "None\n"
     ]
    }
   ],
   "source": [
    "def cause_err() :\n",
    "    l = []\n",
    "    l[1]\n",
    "\n",
    "\n",
    "try:\n",
    "    l = []\n",
    "    l[1]\n",
    "except Exception as e :\n",
    "    #print(sys.exc_info())\n",
    "    t = e.__traceback__\n",
    "    #print(t.__class__.__dict__.keys())\n",
    "    f = t.tb_frame\n",
    "    print(f.__class__.__dict__.keys())\n",
    "    pprint.pprint(f.__doc__)"
   ]
  },
  {
   "cell_type": "code",
   "execution_count": 27,
   "metadata": {},
   "outputs": [
    {
     "data": {
      "text/plain": [
       "(None, None, None)"
      ]
     },
     "execution_count": 27,
     "metadata": {},
     "output_type": "execute_result"
    }
   ],
   "source": []
  },
  {
   "cell_type": "code",
   "execution_count": null,
   "metadata": {},
   "outputs": [],
   "source": []
  },
  {
   "cell_type": "code",
   "execution_count": null,
   "metadata": {},
   "outputs": [],
   "source": []
  }
 ],
 "metadata": {
  "kernelspec": {
   "display_name": "Python 3",
   "language": "python",
   "name": "python3"
  },
  "language_info": {
   "codemirror_mode": {
    "name": "ipython",
    "version": 3
   },
   "file_extension": ".py",
   "mimetype": "text/x-python",
   "name": "python",
   "nbconvert_exporter": "python",
   "pygments_lexer": "ipython3",
   "version": "3.7.1"
  }
 },
 "nbformat": 4,
 "nbformat_minor": 2
}
