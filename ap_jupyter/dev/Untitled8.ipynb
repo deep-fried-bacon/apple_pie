{
 "cells": [
  {
   "cell_type": "code",
   "execution_count": 1,
   "metadata": {},
   "outputs": [
    {
     "name": "stdout",
     "output_type": "stream",
     "text": [
      "reading in wells : 0.94 seconds\n",
      "all exper init : 1.73 seconds\n"
     ]
    }
   ],
   "source": [
    "%run ./import_ap.ipynb\n",
    "exp = ap.make_cur_exper()"
   ]
  },
  {
   "cell_type": "code",
   "execution_count": 2,
   "metadata": {},
   "outputs": [],
   "source": [
    "import ipywidgets\n",
    "import matplotlib.pyplot as plt\n",
    "from IPython.display import display as idisplay"
   ]
  },
  {
   "cell_type": "code",
   "execution_count": 3,
   "metadata": {},
   "outputs": [],
   "source": [
    "def update_plot(plots, condit_str, checkbox) :\n",
    "    \n",
    "    if checkbox :\n",
    "        pass#print('{}: graph on'.format(condit_str))\n",
    "    else :\n",
    "        pass#print('{}: graph off'.format(condit_str))\n",
    "    "
   ]
  },
  {
   "cell_type": "code",
   "execution_count": 4,
   "metadata": {},
   "outputs": [
    {
     "data": {
      "application/vnd.jupyter.widget-view+json": {
       "model_id": "3346476688f44c4b82daabecb371fbd9",
       "version_major": 2,
       "version_minor": 0
      },
      "text/plain": [
       "Tab(children=(VBox(children=(interactive(children=(Checkbox(value=False, description='BYL _20.0'), Output()), …"
      ]
     },
     "metadata": {},
     "output_type": "display_data"
    }
   ],
   "source": [
    "def make_group_widget(group) :\n",
    "    #group_tabs = ipywidgets.Tab()\n",
    "    plots = {}\n",
    "    \n",
    "    #children = []\n",
    "    #for group in exp.groups.values() :\n",
    "    vb = ipywidgets.VBox()\n",
    "    vb_children = []\n",
    "#         condit_select_wid = ipywidgets.Select(\n",
    "#             options = group.condit_strs,\n",
    "#             value = group.condits_strs[0],\n",
    "#             description = 'condition'\n",
    "#         )\n",
    "\n",
    "    for condit in group.condits.values() :\n",
    "        condit_cb = ipywidgets.Checkbox(\n",
    "            value=False,\n",
    "            description = condit.name_str,\n",
    "            disabled = False\n",
    "        )\n",
    "        intera = ipywidgets.interactive(update_plot, \n",
    "            plots=ipywidgets.fixed(plots), condit_str=ipywidgets.fixed(condit.name_str), checkbox=condit_cb )\n",
    "        vb_children.append(intera)\n",
    "    vb.children = vb_children\n",
    "    \n",
    "#     f = plt.figure()\n",
    "#     axes = plt.axes()\n",
    "#     plots[group.name] = axes\n",
    "    #hb = ipywidgets.HBox((vb,f))\n",
    "#         children.\n",
    "    #idisplay(vb)\n",
    "    return vb\n",
    "    \n",
    "def nb_disp_exp(exp) :\n",
    "    group_tabs = ipywidgets.Tab()\n",
    "    tab_children = []\n",
    "    for group in exp.groups.values() :\n",
    "        group_widget = make_group_widget(group)\n",
    "        tab_children.append(group_widget)\n",
    "        \n",
    "    group_tabs.children = tab_children\n",
    "    \n",
    "    #i = 0;\n",
    "    for i,group_name in enumerate(exp.groups.keys()) :\n",
    "        group_tabs.set_title(i,group_name)\n",
    "    idisplay(group_tabs)\n",
    "    \n",
    "nb_disp_exp(exp)\n",
    "        \n",
    "#test_group = ap.ap_utils.one_value(exp.groups)\n",
    "\n",
    "#nb_disp_groups(test_group)\n",
    "        "
   ]
  },
  {
   "cell_type": "code",
   "execution_count": 22,
   "metadata": {},
   "outputs": [],
   "source": [
    "def update_plot_2(scatterplot,on) :\n",
    "    if on :\n",
    "        scatterplot.set_visible(True)\n",
    "    else :\n",
    "        scatterplot.set_visible(False)\n",
    "\n",
    "            \n",
    "def nb_disp_exp(exp) :\n",
    "    group_tabs = ipywidgets.Tab()\n",
    "    tab_children = []\n",
    "    for group in exp.groups.values() :\n",
    "        group_widget = make_group_widget(group)\n",
    "        tab_children.append(group_widget)\n",
    "        \n",
    "    group_tabs.children = tab_children\n",
    "    \n",
    "    #i = 0;\n",
    "    for i,group_name in enumerate(exp.groups.keys()) :\n",
    "        group_tabs.set_title(i,group_name)\n",
    "    idisplay(group_tabs)\n",
    "    \n"
   ]
  },
  {
   "cell_type": "code",
   "execution_count": null,
   "metadata": {},
   "outputs": [],
   "source": [
    "def update_plot_2(scatterplot,on) :\n",
    "    if on :\n",
    "        scatterplot.set_visible(True)\n",
    "    else :\n",
    "        scatterplot.set_visible(False)\n"
   ]
  },
  {
   "cell_type": "code",
   "execution_count": 21,
   "metadata": {},
   "outputs": [
    {
     "ename": "TypeError",
     "evalue": "__init__() got an unexpected keyword argument 'visible'",
     "output_type": "error",
     "traceback": [
      "\u001b[0;31m---------------------------------------------------------------------------\u001b[0m",
      "\u001b[0;31mTypeError\u001b[0m                                 Traceback (most recent call last)",
      "\u001b[0;32m<ipython-input-21-25d2669d25a5>\u001b[0m in \u001b[0;36m<module>\u001b[0;34m\u001b[0m\n\u001b[1;32m     58\u001b[0m     \u001b[0midisplay\u001b[0m\u001b[0;34m(\u001b[0m\u001b[0mgroup_tabs\u001b[0m\u001b[0;34m)\u001b[0m\u001b[0;34m\u001b[0m\u001b[0;34m\u001b[0m\u001b[0m\n\u001b[1;32m     59\u001b[0m \u001b[0;34m\u001b[0m\u001b[0m\n\u001b[0;32m---> 60\u001b[0;31m \u001b[0mnb_disp_exp\u001b[0m\u001b[0;34m(\u001b[0m\u001b[0mexp\u001b[0m\u001b[0;34m)\u001b[0m\u001b[0;34m\u001b[0m\u001b[0;34m\u001b[0m\u001b[0m\n\u001b[0m\u001b[1;32m     61\u001b[0m \u001b[0;34m\u001b[0m\u001b[0m\n\u001b[1;32m     62\u001b[0m \u001b[0;31m#test_group = ap.ap_utils.one_value(exp.groups)\u001b[0m\u001b[0;34m\u001b[0m\u001b[0;34m\u001b[0m\u001b[0;34m\u001b[0m\u001b[0m\n",
      "\u001b[0;32m<ipython-input-21-25d2669d25a5>\u001b[0m in \u001b[0;36mnb_disp_exp\u001b[0;34m(exp)\u001b[0m\n\u001b[1;32m     48\u001b[0m     \u001b[0mtab_children\u001b[0m \u001b[0;34m=\u001b[0m \u001b[0;34m[\u001b[0m\u001b[0;34m]\u001b[0m\u001b[0;34m\u001b[0m\u001b[0;34m\u001b[0m\u001b[0m\n\u001b[1;32m     49\u001b[0m     \u001b[0;32mfor\u001b[0m \u001b[0mgroup\u001b[0m \u001b[0;32min\u001b[0m \u001b[0mexp\u001b[0m\u001b[0;34m.\u001b[0m\u001b[0mgroups\u001b[0m\u001b[0;34m.\u001b[0m\u001b[0mvalues\u001b[0m\u001b[0;34m(\u001b[0m\u001b[0;34m)\u001b[0m \u001b[0;34m:\u001b[0m\u001b[0;34m\u001b[0m\u001b[0;34m\u001b[0m\u001b[0m\n\u001b[0;32m---> 50\u001b[0;31m         \u001b[0mgroup_widget\u001b[0m \u001b[0;34m=\u001b[0m \u001b[0mmake_group_widget\u001b[0m\u001b[0;34m(\u001b[0m\u001b[0mgroup\u001b[0m\u001b[0;34m)\u001b[0m\u001b[0;34m\u001b[0m\u001b[0;34m\u001b[0m\u001b[0m\n\u001b[0m\u001b[1;32m     51\u001b[0m         \u001b[0mtab_children\u001b[0m\u001b[0;34m.\u001b[0m\u001b[0mappend\u001b[0m\u001b[0;34m(\u001b[0m\u001b[0mgroup_widget\u001b[0m\u001b[0;34m)\u001b[0m\u001b[0;34m\u001b[0m\u001b[0;34m\u001b[0m\u001b[0m\n\u001b[1;32m     52\u001b[0m \u001b[0;34m\u001b[0m\u001b[0m\n",
      "\u001b[0;32m<ipython-input-21-25d2669d25a5>\u001b[0m in \u001b[0;36mmake_group_widget\u001b[0;34m(group)\u001b[0m\n\u001b[1;32m      9\u001b[0m \u001b[0;31m#         #idisplay(axes)\u001b[0m\u001b[0;34m\u001b[0m\u001b[0;34m\u001b[0m\u001b[0;34m\u001b[0m\u001b[0m\n\u001b[1;32m     10\u001b[0m \u001b[0;34m\u001b[0m\u001b[0m\n\u001b[0;32m---> 11\u001b[0;31m     \u001b[0mf\u001b[0m \u001b[0;34m=\u001b[0m \u001b[0mplt\u001b[0m\u001b[0;34m.\u001b[0m\u001b[0mfigure\u001b[0m\u001b[0;34m(\u001b[0m\u001b[0mvisible\u001b[0m\u001b[0;34m=\u001b[0m\u001b[0;32mFalse\u001b[0m\u001b[0;34m)\u001b[0m\u001b[0;34m\u001b[0m\u001b[0;34m\u001b[0m\u001b[0m\n\u001b[0m\u001b[1;32m     12\u001b[0m \u001b[0;34m\u001b[0m\u001b[0m\n\u001b[1;32m     13\u001b[0m     \u001b[0maxes\u001b[0m \u001b[0;34m=\u001b[0m \u001b[0mplt\u001b[0m\u001b[0;34m.\u001b[0m\u001b[0maxes\u001b[0m\u001b[0;34m(\u001b[0m\u001b[0;34m)\u001b[0m\u001b[0;34m\u001b[0m\u001b[0;34m\u001b[0m\u001b[0m\n",
      "\u001b[0;32m/usr/local/lib/python3.7/site-packages/matplotlib/pyplot.py\u001b[0m in \u001b[0;36mfigure\u001b[0;34m(num, figsize, dpi, facecolor, edgecolor, frameon, FigureClass, clear, **kwargs)\u001b[0m\n\u001b[1;32m    523\u001b[0m                                         \u001b[0mframeon\u001b[0m\u001b[0;34m=\u001b[0m\u001b[0mframeon\u001b[0m\u001b[0;34m,\u001b[0m\u001b[0;34m\u001b[0m\u001b[0;34m\u001b[0m\u001b[0m\n\u001b[1;32m    524\u001b[0m                                         \u001b[0mFigureClass\u001b[0m\u001b[0;34m=\u001b[0m\u001b[0mFigureClass\u001b[0m\u001b[0;34m,\u001b[0m\u001b[0;34m\u001b[0m\u001b[0;34m\u001b[0m\u001b[0m\n\u001b[0;32m--> 525\u001b[0;31m                                         **kwargs)\n\u001b[0m\u001b[1;32m    526\u001b[0m \u001b[0;34m\u001b[0m\u001b[0m\n\u001b[1;32m    527\u001b[0m         \u001b[0;32mif\u001b[0m \u001b[0mfigLabel\u001b[0m\u001b[0;34m:\u001b[0m\u001b[0;34m\u001b[0m\u001b[0;34m\u001b[0m\u001b[0m\n",
      "\u001b[0;32m/usr/local/lib/python3.7/site-packages/matplotlib/backend_bases.py\u001b[0m in \u001b[0;36mnew_figure_manager\u001b[0;34m(cls, num, *args, **kwargs)\u001b[0m\n\u001b[1;32m   3215\u001b[0m         \u001b[0;32mfrom\u001b[0m \u001b[0mmatplotlib\u001b[0m\u001b[0;34m.\u001b[0m\u001b[0mfigure\u001b[0m \u001b[0;32mimport\u001b[0m \u001b[0mFigure\u001b[0m\u001b[0;34m\u001b[0m\u001b[0;34m\u001b[0m\u001b[0m\n\u001b[1;32m   3216\u001b[0m         \u001b[0mfig_cls\u001b[0m \u001b[0;34m=\u001b[0m \u001b[0mkwargs\u001b[0m\u001b[0;34m.\u001b[0m\u001b[0mpop\u001b[0m\u001b[0;34m(\u001b[0m\u001b[0;34m'FigureClass'\u001b[0m\u001b[0;34m,\u001b[0m \u001b[0mFigure\u001b[0m\u001b[0;34m)\u001b[0m\u001b[0;34m\u001b[0m\u001b[0;34m\u001b[0m\u001b[0m\n\u001b[0;32m-> 3217\u001b[0;31m         \u001b[0mfig\u001b[0m \u001b[0;34m=\u001b[0m \u001b[0mfig_cls\u001b[0m\u001b[0;34m(\u001b[0m\u001b[0;34m*\u001b[0m\u001b[0margs\u001b[0m\u001b[0;34m,\u001b[0m \u001b[0;34m**\u001b[0m\u001b[0mkwargs\u001b[0m\u001b[0;34m)\u001b[0m\u001b[0;34m\u001b[0m\u001b[0;34m\u001b[0m\u001b[0m\n\u001b[0m\u001b[1;32m   3218\u001b[0m         \u001b[0;32mreturn\u001b[0m \u001b[0mcls\u001b[0m\u001b[0;34m.\u001b[0m\u001b[0mnew_figure_manager_given_figure\u001b[0m\u001b[0;34m(\u001b[0m\u001b[0mnum\u001b[0m\u001b[0;34m,\u001b[0m \u001b[0mfig\u001b[0m\u001b[0;34m)\u001b[0m\u001b[0;34m\u001b[0m\u001b[0;34m\u001b[0m\u001b[0m\n\u001b[1;32m   3219\u001b[0m \u001b[0;34m\u001b[0m\u001b[0m\n",
      "\u001b[0;31mTypeError\u001b[0m: __init__() got an unexpected keyword argument 'visible'"
     ]
    }
   ],
   "source": [
    "def make_group_widget(group) :\n",
    "    f = plt.figure(visible=False)\n",
    "    axes = plt.axes()\n",
    " \n",
    "    vb = ipywidgets.VBox()\n",
    "    vb_children = []\n",
    "\n",
    "    for condit in group.condits.values() :\n",
    "        try :\n",
    "            scatterplot = axes.scatter(condit.t_int,condit.dist_meds)\n",
    "            scatterplot.set_visible(False)\n",
    "        except :\n",
    "         \n",
    "        print('nope: {}'.format(condit.name_str))\n",
    "            scatterplot = axes.scatter([1,2,3],[1,2,3])\n",
    "                  \n",
    "        condit_cb = ipywidgets.Checkbox(\n",
    "            value=False,\n",
    "            description = condit.name_str,\n",
    "            disabled = False\n",
    "        )\n",
    "        intera = ipywidgets.interactive(update_plot_2, \n",
    "            scatterplot=ipywidgets.fixed(scatterplot), on=condit_cb )\n",
    "        vb_children.append(intera)\n",
    "    vb.children = vb_children\n",
    "    \n",
    "    plot_widget = ipywidgets.Output()\n",
    "    with plot_widget :\n",
    "        f.set_visible(True)\n",
    "    \n",
    "    hb = ipywidgets.HBox((vb,plot_widget))\n",
    "    return hb\n",
    "\n",
    "    \n",
    "nb_disp_exp(exp)\n",
    "        \n",
    "\n",
    "        "
   ]
  },
  {
   "cell_type": "code",
   "execution_count": null,
   "metadata": {},
   "outputs": [],
   "source": []
  }
 ],
 "metadata": {
  "kernelspec": {
   "display_name": "Python 3",
   "language": "python",
   "name": "python3"
  },
  "language_info": {
   "codemirror_mode": {
    "name": "ipython",
    "version": 3
   },
   "file_extension": ".py",
   "mimetype": "text/x-python",
   "name": "python",
   "nbconvert_exporter": "python",
   "pygments_lexer": "ipython3",
   "version": "3.7.1"
  }
 },
 "nbformat": 4,
 "nbformat_minor": 2
}
