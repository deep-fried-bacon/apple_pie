{
 "cells": [
  {
   "cell_type": "code",
   "execution_count": 1,
   "metadata": {},
   "outputs": [
    {
     "name": "stdout",
     "output_type": "stream",
     "text": [
      "rh30_dirs = ['20180918 (plate upside down)', '20180927', '20180926', '20181109', '20181107', '20181106', '20180925 (no good?)']\n"
     ]
    }
   ],
   "source": [
    "%run ./import_apple_pie.ipynb\n",
    "exp = ap.Exper(pjoin(rh30_path, rh30_dirs[5]))"
   ]
  },
  {
   "cell_type": "code",
   "execution_count": 2,
   "metadata": {},
   "outputs": [
    {
     "data": {
      "text/plain": [
       "['20180918 (plate upside down)',\n",
       " '20180927',\n",
       " '20180926',\n",
       " '20181109',\n",
       " '20181107',\n",
       " '20181106',\n",
       " '20180925 (no good?)']"
      ]
     },
     "execution_count": 2,
     "metadata": {},
     "output_type": "execute_result"
    }
   ],
   "source": [
    "rh30_dirs"
   ]
  },
  {
   "cell_type": "code",
   "execution_count": null,
   "metadata": {},
   "outputs": [],
   "source": []
  },
  {
   "cell_type": "code",
   "execution_count": 6,
   "metadata": {},
   "outputs": [
    {
     "name": "stdout",
     "output_type": "stream",
     "text": [
      "reading in wells : 13.10 seconds\n",
      "all exper init : 13.86 seconds\n",
      "[{'BYL ': [('BYL ', 20.0), ('BYL ', 10.0), ('BYL ', 5.0), ('BYL ', 2.5), ('BYL ', 1.25), ('BYL ', 0.625), ('BYL ', 0.3125), ('BYL ', 0.15625), ('BYL ', 0.078125), ('BYL ', 0.0390625), ('BYL ', 0.01953125), ('BYL ', 0.009765625)], 'IKK ': [('IKK ', 20.0), ('IKK ', 15.38461538), ('IKK ', 11.83431953), ('IKK ', 9.103322713), ('IKK ', 7.002555933), ('IKK ', 5.386581487), ('IKK ', 4.143524221), ('IKK ', 3.187326324), ('IKK ', 2.45178948), ('IKK ', 1.885991907), ('IKK ', 1.450763006), ('IKK ', 1.115971543)], 'PI-103': [('PI-103', 20.0), ('PI-103', 10.0), ('PI-103', 5.0), ('PI-103', 2.5), ('PI-103', 1.25), ('PI-103', 0.625), ('PI-103', 0.3125), ('PI-103', 0.15625), ('PI-103', 0.078125), ('PI-103', 0.0390625), ('PI-103', 0.01953125), ('PI-103', 0.009765625)], 'Tram': [('Tram', 20.0), ('Tram', 10.0), ('Tram', 5.0), ('Tram', 2.5), ('Tram', 1.25), ('Tram', 0.625), ('Tram', 0.3125), ('Tram', 0.15625), ('Tram', 0.078125), ('Tram', 0.0390625), ('Tram', 0.01953125), ('Tram', 0.009765625)], 'Bardox': [('Bardox', 20.0), ('Bardox', 10.0), ('Bardox', 5.0), ('Bardox', 2.5), ('Bardox', 1.25), ('Bardox', 0.625), ('Bardox', 0.3125), ('Bardox', 0.15625), ('Bardox', 0.078125), ('Bardox', 0.0390625), ('Bardox', 0.01953125), ('Bardox', 0.009765625)]}, {20.0: [('BYL ', 20.0), ('IKK ', 20.0), ('PI-103', 20.0), ('Tram', 20.0), ('Bardox', 20.0)], 10.0: [('BYL ', 10.0), ('PI-103', 10.0), ('Tram', 10.0), ('Bardox', 10.0)], 5.0: [('BYL ', 5.0), ('PI-103', 5.0), ('Tram', 5.0), ('Bardox', 5.0)], 2.5: [('BYL ', 2.5), ('PI-103', 2.5), ('Tram', 2.5), ('Bardox', 2.5)], 1.25: [('BYL ', 1.25), ('PI-103', 1.25), ('Tram', 1.25), ('Bardox', 1.25)], 0.625: [('BYL ', 0.625), ('PI-103', 0.625), ('Tram', 0.625), ('Bardox', 0.625)], 0.3125: [('BYL ', 0.3125), ('PI-103', 0.3125), ('Tram', 0.3125), ('Bardox', 0.3125)], 0.15625: [('BYL ', 0.15625), ('PI-103', 0.15625), ('Tram', 0.15625), ('Bardox', 0.15625)], 0.078125: [('BYL ', 0.078125), ('PI-103', 0.078125), ('Tram', 0.078125), ('Bardox', 0.078125)], 0.0390625: [('BYL ', 0.0390625), ('PI-103', 0.0390625), ('Tram', 0.0390625), ('Bardox', 0.0390625)], 0.01953125: [('BYL ', 0.01953125), ('PI-103', 0.01953125), ('Tram', 0.01953125), ('Bardox', 0.01953125)], 0.009765625: [('BYL ', 0.009765625), ('PI-103', 0.009765625), ('Tram', 0.009765625), ('Bardox', 0.009765625)], 15.38461538: [('IKK ', 15.38461538)], 11.83431953: [('IKK ', 11.83431953)], 9.103322713: [('IKK ', 9.103322713)], 7.002555933: [('IKK ', 7.002555933)], 5.386581487: [('IKK ', 5.386581487)], 4.143524221: [('IKK ', 4.143524221)], 3.187326324: [('IKK ', 3.187326324)], 2.45178948: [('IKK ', 2.45178948)], 1.885991907: [('IKK ', 1.885991907)], 1.450763006: [('IKK ', 1.450763006)], 1.115971543: [('IKK ', 1.115971543)]}]\n"
     ]
    }
   ],
   "source": [
    "\n",
    "exp = ap.Exper(pjoin(rh30_path, rh30_dirs[5]))"
   ]
  },
  {
   "cell_type": "code",
   "execution_count": 13,
   "metadata": {},
   "outputs": [],
   "source": [
    "group_keys = list(exp.groups[0].keys())"
   ]
  },
  {
   "cell_type": "code",
   "execution_count": 39,
   "metadata": {},
   "outputs": [
    {
     "data": {
      "application/vnd.jupyter.widget-view+json": {
       "model_id": "2e43391f7eb14427ac77a1b7bc76ee63",
       "version_major": 2,
       "version_minor": 0
      },
      "text/plain": [
       "Tab(children=(Output(), Output(), Output(), Output(), Output()), _titles={'0': 'BYL ', '1': 'IKK ', '2': 'PI-1…"
      ]
     },
     "metadata": {},
     "output_type": "display_data"
    }
   ],
   "source": [
    "import ipywidgets\n",
    "# tab_contents = group_keys\n",
    "#children = [widgets.Text(description=name) for name in tab_contents]\n",
    "tab = ipywidgets.Tab()\n",
    "# children = \n",
    "tab.children = [ipywidgets.Output() for group in group_keys]\n",
    "for child in tab.children :\n",
    "    with child :\n",
    "        plt.plot([1,2,3], [4,5,2])\n",
    "        plt.show()\n",
    "for i in range(len(group_keys)):\n",
    "    tab.set_title(i, group_keys[i])\n",
    "tab"
   ]
  },
  {
   "cell_type": "code",
   "execution_count": 48,
   "metadata": {},
   "outputs": [
    {
     "data": {
      "text/plain": [
       "[('BYL ', 20.0),\n",
       " ('BYL ', 10.0),\n",
       " ('BYL ', 5.0),\n",
       " ('BYL ', 2.5),\n",
       " ('BYL ', 1.25),\n",
       " ('BYL ', 0.625),\n",
       " ('BYL ', 0.3125),\n",
       " ('BYL ', 0.15625),\n",
       " ('BYL ', 0.078125),\n",
       " ('BYL ', 0.0390625),\n",
       " ('BYL ', 0.01953125),\n",
       " ('BYL ', 0.009765625)]"
      ]
     },
     "execution_count": 48,
     "metadata": {},
     "output_type": "execute_result"
    }
   ],
   "source": [
    "exp.groups[0][group_keys[0]]"
   ]
  },
  {
   "cell_type": "markdown",
   "metadata": {},
   "source": [
    " "
   ]
  },
  {
   "cell_type": "code",
   "execution_count": 22,
   "metadata": {},
   "outputs": [
    {
     "data": {
      "application/vnd.jupyter.widget-view+json": {
       "model_id": "afd3468ddf7e41f7b101dd72a1b8db07",
       "version_major": 2,
       "version_minor": 0
      },
      "text/plain": [
       "Tab(children=(Output(),))"
      ]
     },
     "metadata": {},
     "output_type": "display_data"
    }
   ],
   "source": [
    "from ipywidgets import Output, Tab\n",
    "from matplotlib import pyplot as plt\n",
    "\n",
    "out = Output()\n",
    "t = Tab()\n",
    "t.children = [out]\n",
    "\n",
    "with out:\n",
    "    plt.plot([1,2,3], [4,5,2])\n",
    "    plt.show()\n",
    "t"
   ]
  },
  {
   "cell_type": "code",
   "execution_count": 59,
   "metadata": {},
   "outputs": [
    {
     "data": {
      "application/vnd.jupyter.widget-view+json": {
       "model_id": "c0af6815de9c418da36dfaa26e255e38",
       "version_major": 2,
       "version_minor": 0
      },
      "text/plain": [
       "Tab(children=(Output(), Output(), Output(), Output(), Output()), _titles={'0': 'BYL ', '1': 'IKK ', '2': 'PI-1…"
      ]
     },
     "metadata": {},
     "output_type": "display_data"
    }
   ],
   "source": [
    "tabs = ipywidgets.Tab()\n",
    "#tabs.children = []\n",
    "axes = []\n",
    "tabs.children = [ipywidgets.Output() for group in group_keys]\n",
    "\n",
    "for group_key, group_condits in exp.groups[0].items() :\n",
    "    pass\n",
    "    #axes.append(ipywidgets.Output()) :\n",
    "    #tabs.children.append(ipywidgets.Output())\n",
    "    #axes.append(plt.plot([1,2,3], [4,5,2]))\n",
    "for i in range(len(group_keys)):\n",
    "    tabs.set_title(i, group_keys[i])\n",
    "\n",
    "\n",
    "\n",
    "# for out in tabs.children :\n",
    "#     with out :\n",
    "        \n",
    "# #         axes.append(plt.figure())\n",
    "# #         plt.plot([1,2,3],[1,4,9])\n",
    "# #         plt.show()\n",
    "#         #axes[-1].show()\n",
    "# tabs\n",
    "\n",
    "for i in range(len(exp.groups[0])) :\n",
    "    with tabs.children[i] :\n",
    "        conds = [str(tup) for tup in exp.groups[0][group_keys[i]]]\n",
    "\n",
    "        t = ipywidgets.Select(\n",
    "            options=conds,\n",
    "            value=conds[0],\n",
    "            # rows=10,\n",
    "            description='conditions',\n",
    "            disabled=False\n",
    "        )\n",
    "tabs"
   ]
  },
  {
   "cell_type": "code",
   "execution_count": 1,
   "metadata": {},
   "outputs": [
    {
     "data": {
      "application/vnd.jupyter.widget-view+json": {
       "model_id": "5b94f67b9d624b2d8a2539704c982aef",
       "version_major": 2,
       "version_minor": 0
      },
      "text/plain": [
       "Tab(children=(HBox(children=(Select(description='X', options=(1, 2, 3, 4), value=1), Output())),), _titles={'0…"
      ]
     },
     "metadata": {},
     "output_type": "display_data"
    }
   ],
   "source": [
    "from ipywidgets import *\n",
    "\n",
    "import matplotlib.pyplot as plt\n",
    "\n",
    "def plot_image(x):\n",
    "\n",
    "#     data = df\n",
    "\n",
    "    if x != 'Select':\n",
    "        #xplot = data[x]\n",
    "        #sns.distplot(xplot)\n",
    "        #plt.show()\n",
    "        plt.plot([1,2,3],[1,4,9])\n",
    "\n",
    "#define widgets\n",
    "x = widgets.Select(\n",
    "        options=[1,2,3,4],\n",
    "        value=1,\n",
    "        description='X'\n",
    "    )\n",
    "\n",
    "x.set_title  = 'x'\n",
    "\n",
    "#assign widgets to tabs\n",
    "#tab_visualise = widgets.HBox([x])\n",
    "\n",
    "#create tabs\n",
    "tab_nest = widgets.Tab()\n",
    "# tab_nest.children = [tab_visualise]\n",
    "tab_nest.set_title(0, 'Visualise')\n",
    "\n",
    "\n",
    "#interact function in isolation\n",
    "f = interactive(plot_image, x = x);\n",
    "tab_nest.children = [HBox(children = f.children)]\n",
    "display(tab_nest)"
   ]
  },
  {
   "cell_type": "code",
   "execution_count": null,
   "metadata": {},
   "outputs": [],
   "source": [
    "\n",
    "\n",
    "def plot_condit(condit_tup):\n",
    "\n",
    "#     data = df\n",
    "\n",
    "    if x != 'Select':\n",
    "        #xplot = data[x]\n",
    "        #sns.distplot(xplot)\n",
    "        #plt.show()\n",
    "        plt.plot([1,2,3],[1,4,9])\n",
    "\n",
    "#define widgets\n",
    "x = widgets.Select(\n",
    "        options=[1,2,3,4],\n",
    "        value=1,\n",
    "        description='X'\n",
    "    )\n",
    "\n",
    "x.set_title  = 'x'\n",
    "\n",
    "#assign widgets to tabs\n",
    "tab_visualise = widgets.HBox([x])\n",
    "\n",
    "#create tabs\n",
    "tab_nest = widgets.Tab()\n",
    "# tab_nest.children = [tab_visualise]\n",
    "tab_nest.set_title(0, 'Visualise')\n",
    "\n",
    "\n",
    "#interact function in isolation\n",
    "f = interactive(plot_image, x = x);\n",
    "tab_nest.children = [HBox(children = f.children)]\n",
    "display(tab_nest)"
   ]
  }
 ],
 "metadata": {
  "kernelspec": {
   "display_name": "Python 3",
   "language": "python",
   "name": "python3"
  },
  "language_info": {
   "codemirror_mode": {
    "name": "ipython",
    "version": 3
   },
   "file_extension": ".py",
   "mimetype": "text/x-python",
   "name": "python",
   "nbconvert_exporter": "python",
   "pygments_lexer": "ipython3",
   "version": "3.7.1"
  }
 },
 "nbformat": 4,
 "nbformat_minor": 2
}
