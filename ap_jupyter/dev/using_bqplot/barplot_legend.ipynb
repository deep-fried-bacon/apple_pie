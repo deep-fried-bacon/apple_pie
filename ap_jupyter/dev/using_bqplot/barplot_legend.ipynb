{
 "cells": [
  {
   "cell_type": "code",
   "execution_count": 1,
   "metadata": {},
   "outputs": [],
   "source": [
    "## need to cite original author (originally titled Vaex Demo)"
   ]
  },
  {
   "cell_type": "code",
   "execution_count": 2,
   "metadata": {},
   "outputs": [],
   "source": [
    "import numpy as np\n",
    "import ipywidgets as widgets\n",
    "import bqplot as bq"
   ]
  },
  {
   "cell_type": "code",
   "execution_count": 3,
   "metadata": {},
   "outputs": [],
   "source": [
    "## random data to plot\n",
    "size = 10000\n",
    "scale = 1.\n",
    "scaleLocal = 20\n",
    "np.random.seed(0)\n",
    "x_data = np.arange(size)\n",
    "y_data = np.cumsum(np.random.randn(size)  * scale) + np.random.randn(size) * scaleLocal\n",
    "\n",
    "np.random.seed(1)\n",
    "scaleLocal2 = 3\n",
    "y_data2 = np.cumsum(np.random.randn(size)  * scale) + np.random.randn(size) * scaleLocal2"
   ]
  },
  {
   "cell_type": "code",
   "execution_count": 4,
   "metadata": {},
   "outputs": [],
   "source": [
    "## create lines and figure\n",
    "x_sc = bq.LinearScale()\n",
    "y_sc = bq.LinearScale()\n",
    "y_sc2 = bq.LinearScale()\n",
    "\n",
    "ax_x = bq.Axis(label='X', scale=x_sc, grid_lines='solid')\n",
    "ax_y = bq.Axis(label='Y', scale=y_sc, orientation='vertical', grid_lines='solid')\n",
    "ax_y2 = bq.Axis(label='2nd Y', scale=y_sc2, orientation='vertical', side = 'right', visible = False,grid_lines='none')\n",
    "\n",
    "line1 = bq.Lines(x=x_data, y=y_data, scales={'x': x_sc, 'y': y_sc} , colors=['blue'],display_legend = False, labels=['y1'],stroke_width = 1.0)\n",
    "\n",
    "line2 = bq.Lines(x=x_data, y=y_data2, scales={'x': x_sc, 'y': y_sc} , colors=['darkgreen'],display_legend = False, labels=['y2'],stroke_width = 1.0)\n",
    "\n",
    "margins = dict(top = 50, bottom=40, left=50, right=50)\n",
    "fig = bq.Figure(marks = [line1,line2], axes=[ax_x, ax_y] , fig_margin = margins , animation_duration=1000)\n",
    "fig.layout.width = '98%'\n",
    "fig.layout.height = '400px' \n",
    "fig.title = 'Barplot'\n",
    "\n"
   ]
  },
  {
   "cell_type": "code",
   "execution_count": 7,
   "metadata": {},
   "outputs": [],
   "source": [
    "class legendWidget(object):\n",
    "    \"\"\"A legend Widget using a horizontal bar chart\n",
    "    \n",
    "    marks: line marks from a bqplot figure.  \n",
    "    \n",
    "    These line marks must have legend labels \n",
    "    (in line mark, remove other legend by using this: display_legend = False)\n",
    "    e.g. >>> legend = legendWidget(fig.marks) \n",
    "    \n",
    "    BQplot module imported as bq (import bqplot as bq)\n",
    "\n",
    "    \"\"\"\n",
    "    def __init__(self, lineFig):\n",
    "        \"\"\"Return a new Legend object.\"\"\"\n",
    "        \n",
    "        self.lineFig = lineFig\n",
    "        self.marks = self.lineFig.marks\n",
    "        y_ord = bq.OrdinalScale()\n",
    "        x_sc = bq.LinearScale()\n",
    "        \n",
    "        legendLabels = []\n",
    "        colours = []\n",
    "        markLineNums = [] # record number of lines per mark\n",
    "        for mark in self.marks:            \n",
    "            legendLabels += mark.labels\n",
    "            colours += mark.colors[:len(mark.labels)]\n",
    "            markLineNums.append(len(mark.labels))  \n",
    "            \n",
    "            \n",
    "\n",
    "        bar = bq.Bars(\n",
    "            y=[1]*len(legendLabels) , # all bars have a amplitude of 1\n",
    "            x=legendLabels, \n",
    "            scales={'y': x_sc, 'x': y_ord},\n",
    "            colors=colours ,\n",
    "            padding = 0.6,\n",
    "            orientation='horizontal',\n",
    "            stroke = 'white'  #remove the black border around the bar\n",
    "            )\n",
    "        \n",
    "        ax_y = bq.Axis(scale=y_ord, orientation=\"vertical\")\n",
    "        ax_x = bq.Axis(scale=x_sc)\n",
    "        ax_x.visible = False\n",
    "        margin = dict(top=40, bottom=0, left=110, right=5)\n",
    "        barFig = bq.Figure(marks=[bar], axes=[ax_y, ax_x], fig_margin=margin)\n",
    "        \n",
    "        # Variable height depending on number of bars in legend\n",
    "        barFig.layout.height = str(45 + 20 * len(legendLabels)) + 'px'\n",
    "        barFig.layout.width = '170px'\n",
    "\n",
    "        barFig.min_aspect_ratio = 0.000000000001 # effectively remove aspect ratio constraint\n",
    "        barFig.max_aspect_ratio = 999999999999999 # effectively remove aspect ratio constraint\n",
    "        barFig.background_style = {'fill': 'White'}   \n",
    "                    \n",
    "        self.fig = barFig\n",
    "        self.bar = bar\n",
    "        self.bar.on_element_click(self.changeOpacity)\n",
    "        self.colours = colours\n",
    "        self.markLineNums = markLineNums\n",
    "        \n",
    "    \n",
    "    \n",
    "    def matchLegendOpacities2FigMarks(self,bar):\n",
    "            # Some marks in line plot have more than 1 line.  \n",
    "        currentLineNum=0\n",
    "        for markNum,markLineNum in enumerate(self.markLineNums):\n",
    "            self.lineFig.marks[markNum].opacities = bar.opacities[currentLineNum:currentLineNum + markLineNum ]\n",
    "            currentLineNum+=markLineNum\n",
    "\n",
    "    def changeOpacity(self, bar, target):\n",
    "        \"\"\"\n",
    "        Enable legend interactivity. \n",
    "        Use in conjunction with class legendWidget(object) \n",
    "        Click on legend bar to toggle opacity of all other lines\n",
    "        \"\"\"\n",
    "      \n",
    "        opacity = 0.1   # set opacity of non selected lines here\n",
    "        sigNum = target['data']['index']\n",
    "        if bar.opacities == []:\n",
    "            bar.opacities=[1.0]*len(bar.x)\n",
    "\n",
    "        if bar.opacities[sigNum] == 1.0:\n",
    "            # bar.opacities[sigNum]=opacity    # Doesn't work ????\n",
    "            bar.opacities=bar.opacities[:sigNum] + [opacity] + bar.opacities[sigNum+1:]\n",
    "        else:\n",
    "            bar.opacities=bar.opacities[:sigNum] + [1] + bar.opacities[sigNum+1:] \n",
    "\n",
    "        self.matchLegendOpacities2FigMarks(bar)\n",
    "\n",
    "\n",
    " \n",
    "    \n",
    "        "
   ]
  },
  {
   "cell_type": "code",
   "execution_count": 8,
   "metadata": {
    "scrolled": false
   },
   "outputs": [
    {
     "data": {
      "application/vnd.jupyter.widget-view+json": {
       "model_id": "aabfc3b774394b5f9b4c5aa4e635f701",
       "version_major": 2,
       "version_minor": 0
      },
      "text/plain": [
       "HBox(children=(Figure(axes=[Axis(orientation='vertical', scale=OrdinalScale()), Axis(scale=LinearScale(), visi…"
      ]
     },
     "metadata": {},
     "output_type": "display_data"
    }
   ],
   "source": [
    "# legend = legendWidget(fig.marks)        \n",
    "legend = legendWidget(fig)        \n",
    "fig_legend = widgets.HBox([legend.fig,fig])\n",
    "fig_legend"
   ]
  },
  {
   "cell_type": "code",
   "execution_count": null,
   "metadata": {},
   "outputs": [],
   "source": []
  },
  {
   "cell_type": "code",
   "execution_count": null,
   "metadata": {},
   "outputs": [],
   "source": []
  }
 ],
 "metadata": {
  "hide_input": false,
  "kernelspec": {
   "display_name": "Python 3",
   "language": "python",
   "name": "python3"
  },
  "language_info": {
   "codemirror_mode": {
    "name": "ipython",
    "version": 3
   },
   "file_extension": ".py",
   "mimetype": "text/x-python",
   "name": "python",
   "nbconvert_exporter": "python",
   "pygments_lexer": "ipython3",
   "version": "3.7.1"
  },
  "varInspector": {
   "cols": {
    "lenName": 16,
    "lenType": 16,
    "lenVar": 40
   },
   "kernels_config": {
    "python": {
     "delete_cmd_postfix": "",
     "delete_cmd_prefix": "del ",
     "library": "var_list.py",
     "varRefreshCmd": "print(var_dic_list())"
    },
    "r": {
     "delete_cmd_postfix": ") ",
     "delete_cmd_prefix": "rm(",
     "library": "var_list.r",
     "varRefreshCmd": "cat(var_dic_list()) "
    }
   },
   "types_to_exclude": [
    "module",
    "function",
    "builtin_function_or_method",
    "instance",
    "_Feature"
   ],
   "window_display": false
  }
 },
 "nbformat": 4,
 "nbformat_minor": 2
}
