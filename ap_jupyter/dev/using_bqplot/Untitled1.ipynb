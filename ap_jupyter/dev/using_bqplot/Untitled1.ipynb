{
 "cells": [
  {
   "cell_type": "code",
   "execution_count": null,
   "metadata": {},
   "outputs": [],
   "source": [
    "import bqplot"
   ]
  },
  {
   "cell_type": "code",
   "execution_count": 7,
   "metadata": {},
   "outputs": [],
   "source": [
    "def membs(inst) :\n",
    "    print(inst.__dict__.keys())"
   ]
  },
  {
   "cell_type": "code",
   "execution_count": 8,
   "metadata": {},
   "outputs": [
    {
     "name": "stdout",
     "output_type": "stream",
     "text": [
      "dict_keys(['_trait_values', '_trait_notifiers', '_trait_validators', '_cross_validation_lock', '_model_id'])\n"
     ]
    }
   ],
   "source": [
    "f = bqplot.Figure()\n",
    "membs(f)"
   ]
  },
  {
   "cell_type": "code",
   "execution_count": 19,
   "metadata": {},
   "outputs": [
    {
     "name": "stdout",
     "output_type": "stream",
     "text": [
      "dict_keys(['_trait_values', '_trait_notifiers', '_trait_validators', '_cross_validation_lock', '_model_id'])\n"
     ]
    }
   ],
   "source": [
    "x = [i for i in range(10)]\n",
    "y = [x**2 for x in x]\n",
    "a = bqplot.Axis(scale=bqplot.LinearScale())\n",
    "membs(a)"
   ]
  },
  {
   "cell_type": "code",
   "execution_count": null,
   "metadata": {},
   "outputs": [],
   "source": [
    "scats[0].vis"
   ]
  }
 ],
 "metadata": {
  "kernelspec": {
   "display_name": "Python 3",
   "language": "python",
   "name": "python3"
  },
  "language_info": {
   "codemirror_mode": {
    "name": "ipython",
    "version": 3
   },
   "file_extension": ".py",
   "mimetype": "text/x-python",
   "name": "python",
   "nbconvert_exporter": "python",
   "pygments_lexer": "ipython3",
   "version": "3.7.1"
  }
 },
 "nbformat": 4,
 "nbformat_minor": 2
}
