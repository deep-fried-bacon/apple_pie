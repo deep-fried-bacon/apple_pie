{
 "cells": [
  {
   "cell_type": "code",
   "execution_count": 1,
   "metadata": {},
   "outputs": [
    {
     "name": "stdout",
     "output_type": "stream",
     "text": [
      "reading in wells : 0.86 seconds\n",
      "all exper init : 1.62 seconds\n"
     ]
    }
   ],
   "source": [
    "%run ./import_ap.ipynb\n",
    "exp = ap.make_cur_exper()"
   ]
  },
  {
   "cell_type": "code",
   "execution_count": 5,
   "metadata": {},
   "outputs": [],
   "source": [
    "import ipywidgets\n",
    "import matplotlib.pyplot as plt\n",
    "from IPython.display import display as idisplay\n",
    "%matplotlib inline"
   ]
  },
  {
   "cell_type": "code",
   "execution_count": 6,
   "metadata": {},
   "outputs": [],
   "source": [
    "def nb_disp_exp(exp) :\n",
    "    group_tabs = ipywidgets.Tab()\n",
    "    tab_children = []\n",
    "    for group in exp.groups.values() :\n",
    "        group_widget = make_group_widget(group)\n",
    "        tab_children.append(group_widget)\n",
    "        \n",
    "    group_tabs.children = tab_children\n",
    "    \n",
    "    #i = 0;\n",
    "    for i,group_name in enumerate(exp.groups.keys()) :\n",
    "        group_tabs.set_title(i,group_name)\n",
    "    idisplay(group_tabs)"
   ]
  },
  {
   "cell_type": "code",
   "execution_count": 25,
   "metadata": {},
   "outputs": [],
   "source": [
    "import time\n",
    "def update_plot(exp, checkboxes, condit_name, showplot) :\n",
    "#     print('here')\n",
    "    #with output_widget :\n",
    "    print(time.time())\n",
    "    for cb in checkboxes :\n",
    "        if cb.value :\n",
    "            condit = exp.condits[exper.cstr_tup_dict[cb.description]]\n",
    "            #3try :\n",
    "            plt.plot(condit.t_int,condit.dist_means,'o')\n",
    "            #except e :\n",
    "            #    print('nope')\n"
   ]
  },
  {
   "cell_type": "code",
   "execution_count": 26,
   "metadata": {},
   "outputs": [
    {
     "data": {
      "application/vnd.jupyter.widget-view+json": {
       "model_id": "4cf06745aba04cdca09ad58086721e90",
       "version_major": 2,
       "version_minor": 0
      },
      "text/plain": [
       "Tab(children=(VBox(children=(interactive(children=(Checkbox(value=False, description='BYL _20.0'), Output()), …"
      ]
     },
     "metadata": {},
     "output_type": "display_data"
    }
   ],
   "source": [
    "def make_group_widget(group) :\n",
    "    vb = ipywidgets.VBox()\n",
    "    vb_children = []\n",
    "    \n",
    "    checkboxes = []\n",
    "    output_widget = ipywidgets.Output()\n",
    "    for condit in group.condits.values() :\n",
    "\n",
    "                  \n",
    "        condit_cb = ipywidgets.Checkbox(\n",
    "            value=False,\n",
    "            description = condit.name_str,\n",
    "            disabled = False\n",
    "        )\n",
    "        intera = ipywidgets.interactive(\n",
    "            update_plot, \n",
    "            exp = ipywidgets.fixed(exp),\n",
    "            checkboxes = ipywidgets.fixed(checkboxes),\n",
    "#             output_widget = ipywidgets.fixed(output_widget),\n",
    "            condit_name = ipywidgets.fixed(condit.name),\n",
    "            showplot = condit_cb \n",
    "        )\n",
    "        \n",
    "        vb_children.append(intera)\n",
    "    vb.children = vb_children\n",
    "    \n",
    "   \n",
    "    \n",
    "#     hb = ipywidgets.HBox((vb,output_widget))\n",
    "    return vb\n",
    "\n",
    "    \n",
    "nb_disp_exp(exp)\n",
    "        \n",
    "\n",
    "        "
   ]
  },
  {
   "cell_type": "code",
   "execution_count": null,
   "metadata": {},
   "outputs": [],
   "source": []
  },
  {
   "cell_type": "code",
   "execution_count": null,
   "metadata": {},
   "outputs": [],
   "source": []
  }
 ],
 "metadata": {
  "kernelspec": {
   "display_name": "Python 3",
   "language": "python",
   "name": "python3"
  },
  "language_info": {
   "codemirror_mode": {
    "name": "ipython",
    "version": 3
   },
   "file_extension": ".py",
   "mimetype": "text/x-python",
   "name": "python",
   "nbconvert_exporter": "python",
   "pygments_lexer": "ipython3",
   "version": "3.7.1"
  }
 },
 "nbformat": 4,
 "nbformat_minor": 2
}
