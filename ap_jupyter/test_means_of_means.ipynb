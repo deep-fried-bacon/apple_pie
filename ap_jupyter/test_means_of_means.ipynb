{
 "cells": [
  {
   "cell_type": "code",
   "execution_count": 2,
   "metadata": {},
   "outputs": [
    {
     "name": "stdout",
     "output_type": "stream",
     "text": [
      "reading in wells : 1.42 seconds\n",
      "all exper init : 2.19 seconds\n"
     ]
    }
   ],
   "source": [
    "%run ./import_ap.ipynb\n",
    "# %run ./ScatLegend.ipynb\n",
    "from scatLegend import ScatLegend\n",
    "exp = ap.make_cur_exper()"
   ]
  },
  {
   "cell_type": "code",
   "execution_count": 3,
   "metadata": {},
   "outputs": [],
   "source": [
    "import ipywidgets as wids\n",
    "import bqplot as bq\n",
    "from bqplot.colorschemes import CATEGORY20\n",
    "from IPython.display import display as idisp"
   ]
  },
  {
   "cell_type": "code",
   "execution_count": 4,
   "metadata": {},
   "outputs": [],
   "source": [
    "def nb_disp_exp(exp) : \n",
    "    group_tabs = wids.Tab()\n",
    "    \n",
    "    tab_children = []\n",
    "    for group in exp.groups.values() :\n",
    "        group_widget = make_group_widget(group)\n",
    "        tab_children.append(group_widget)\n",
    "        \n",
    "    group_tabs.children = tab_children\n",
    "    \n",
    "    for i, group_name in enumerate(exp.groups.keys()) :\n",
    "        group_tabs.set_title(i,group_name)\n",
    "    idisp(group_tabs)"
   ]
  },
  {
   "cell_type": "code",
   "execution_count": 5,
   "metadata": {},
   "outputs": [],
   "source": [
    "def update_plot(scat, show) :\n",
    "    scat.visible = show"
   ]
  },
  {
   "cell_type": "code",
   "execution_count": 10,
   "metadata": {
    "scrolled": false
   },
   "outputs": [
    {
     "name": "stdout",
     "output_type": "stream",
     "text": [
      "('BYL ', 20.0): list index out of range\n"
     ]
    },
    {
     "data": {
      "application/vnd.jupyter.widget-view+json": {
       "model_id": "78c844a72cac4d4ba3cfb580e4dd4a06",
       "version_major": 2,
       "version_minor": 0
      },
      "text/plain": [
       "Tab(children=(HBox(children=(Figure(axes=[Axis(orientation='vertical', scale=OrdinalScale()), Axis(scale=Linea…"
      ]
     },
     "metadata": {},
     "output_type": "display_data"
    }
   ],
   "source": [
    "def make_group_widget(group) :\n",
    "    x_sc = bq.LinearScale()\n",
    "    y_sc = bq.LinearScale(min=0, max=20)\n",
    "\n",
    "    xlabel = 'time (hrs)'\n",
    "    ylabel = 'displacement (pixels/10 minutes)'\n",
    "    fig_title = group.name\n",
    "    \n",
    "    x_ax = bq.Axis(\n",
    "        label=xlabel, \n",
    "        scale=x_sc,\n",
    "        orientation='horizontal')\n",
    "\n",
    "    y_ax = bq.Axis(\n",
    "        label=ylabel, \n",
    "        scale=y_sc,\n",
    "        orientation='vertical')\n",
    "\n",
    "    scats = []\n",
    "    c = 0\n",
    "\n",
    "    temp_list = list(group.condits.values())\n",
    "    temp_list.append(group.exper.control)\n",
    "    for condit in temp_list :\n",
    "        \n",
    "       \n",
    "        try :\n",
    "            condit.dist_mean_mean\n",
    "        except Exception as e:\n",
    "            print(\"{}: {}\".format(condit.name,e))\n",
    "            continue\n",
    "            \n",
    "        x = [c]\n",
    "        y = [condit.dist_mean_mean]\n",
    "            \n",
    "        scat = bq.Scatter(\n",
    "            x=x,\n",
    "            y=y,\n",
    "            scales={'x':x_sc, 'y':y_sc},\n",
    "            labels = [condit.name_str],\n",
    "            colors=[CATEGORY20[c]],\n",
    "            display_legend=False\n",
    "        )\n",
    "\n",
    "        c += 1\n",
    "        scats.append(scat)\n",
    "\n",
    "\n",
    "    margins = dict(top = 50, bottom=40, left=50, right=50)\n",
    "\n",
    "    fig = bq.Figure(\n",
    "        marks = scats,\n",
    "        axes=[x_ax, y_ax],  \n",
    "        animation_duration=1000,\n",
    "        fig_margins=margins)\n",
    "\n",
    "    # fig.layout.width = '98%'\n",
    "    fig.layout.height = '400px' \n",
    "    fig.title = fig_title\n",
    "    \n",
    "    scat_leg = ScatLegend(fig)\n",
    "\n",
    "    \n",
    "    hb = wids.HBox([scat_leg.fig,fig])\n",
    "    return hb\n",
    "\n",
    "    \n",
    "nb_disp_exp(exp)\n",
    "        \n",
    "\n",
    "        "
   ]
  },
  {
   "cell_type": "code",
   "execution_count": null,
   "metadata": {},
   "outputs": [],
   "source": []
  },
  {
   "cell_type": "code",
   "execution_count": null,
   "metadata": {},
   "outputs": [],
   "source": []
  }
 ],
 "metadata": {
  "kernelspec": {
   "display_name": "Python 3",
   "language": "python",
   "name": "python3"
  },
  "language_info": {
   "codemirror_mode": {
    "name": "ipython",
    "version": 3
   },
   "file_extension": ".py",
   "mimetype": "text/x-python",
   "name": "python",
   "nbconvert_exporter": "python",
   "pygments_lexer": "ipython3",
   "version": "3.7.2"
  }
 },
 "nbformat": 4,
 "nbformat_minor": 2
}
