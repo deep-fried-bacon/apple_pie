{
 "cells": [
  {
   "cell_type": "code",
   "execution_count": null,
   "metadata": {
    "button": false,
    "collapsed": false,
    "deletable": true,
    "new_sheet": false,
    "run_control": {
     "read_only": false
    }
   },
   "outputs": [],
   "source": [
    "%run ./import_ap.ipynb\n",
    "\n",
    "import pandas as pd\n",
    "\n",
    "import apple_pie as ap\n",
    "import brutils\n",
    "\n",
    "import matplotlib.pyplot as plt\n",
    "\n",
    "exp = ap.make_cur_exper()\n"
   ]
  },
  {
   "cell_type": "code",
   "execution_count": null,
   "metadata": {
    "button": false,
    "collapsed": true,
    "deletable": true,
    "new_sheet": false,
    "run_control": {
     "read_only": false
    }
   },
   "outputs": [],
   "source": [
    "control_df = pd.DataFrame(exp.control.dists)"
   ]
  },
  {
   "cell_type": "code",
   "execution_count": null,
   "metadata": {
    "button": false,
    "collapsed": false,
    "deletable": true,
    "new_sheet": false,
    "run_control": {
     "read_only": false
    }
   },
   "outputs": [],
   "source": [
    "control_df.apply(pd.DataFrame.describe, axis=1)[:5]"
   ]
  },
  {
   "cell_type": "code",
   "execution_count": null,
   "metadata": {
    "button": false,
    "collapsed": true,
    "deletable": true,
    "new_sheet": false,
    "run_control": {
     "read_only": false
    }
   },
   "outputs": [],
   "source": [
    "#%matplotlib notebook\n",
    "# for group in exp.groups.values() :\n",
    "#     f = plt.figure()\n",
    "#     print(group.name)\n",
    "# print((exp.groups.keys()))\n",
    "def std_plots(group_name) :\n",
    "    for condit in exp.groups[group_name].condits.values() : #exp.condits.values() :\n",
    "        f = plt.figure()\n",
    "\n",
    "\n",
    "        cdf = pd.DataFrame(exp.control.dists)\n",
    "        cdf_stats = cdf.apply(pd.DataFrame.describe, axis=1)\n",
    "\n",
    "        cdf_stats['upper'] = cdf_stats.apply(lambda x: x['mean'] + x['std'], axis=1)\n",
    "        cdf_stats['lower'] = cdf_stats.apply(lambda x: x['mean'] - x['std'], axis=1)\n",
    "        cdf_stats['time'] = [x/6 for x in range(1,len(cdf_stats)+1)]\n",
    "\n",
    "        plt.fill_between(cdf_stats['time'],cdf_stats['lower'],cdf_stats['upper'],alpha=.5)\n",
    "    #     plt.plot(cdf_stats['time'],cdf_stats['mean'],ls='',marker='o')\n",
    "        #plt.fill_between(cdf_stats['time'],cdf_stats['lower'],cdf_stats['upper'],alpha=.5,label='std')\n",
    "        plt.plot(cdf_stats['time'],cdf_stats['mean'],ls='',marker='o',label=exp.control.name)\n",
    "\n",
    "\n",
    "\n",
    "\n",
    "        cdf = pd.DataFrame(condit.dists)\n",
    "        cdf_stats = cdf.apply(pd.DataFrame.describe, axis=1)\n",
    "\n",
    "        cdf_stats['upper'] = cdf_stats.apply(lambda x: x['mean'] + x['std'], axis=1)\n",
    "        cdf_stats['lower'] = cdf_stats.apply(lambda x: x['mean'] - x['std'], axis=1)\n",
    "        cdf_stats['time'] = [x/6 for x in range(1,len(cdf_stats)+1)]\n",
    "\n",
    "    #     plt.fill_between(cdf_stats['time'],cdf_stats['lower'],cdf_stats['upper'],alpha=.5)\n",
    "    #     plt.plot(cdf_stats['time'],cdf_stats['mean'],ls='',marker='o')\n",
    "        plt.fill_between(cdf_stats['time'],cdf_stats['lower'],cdf_stats['upper'],alpha=.5,label='std')\n",
    "        plt.plot(cdf_stats['time'],cdf_stats['mean'],ls='',marker='o',label=condit.name)\n",
    "\n",
    "\n",
    "        plt.legend()\n",
    "        ax = plt.gca()\n",
    "        ax.set_ylim(0,20)\n",
    "        #f.show()\n",
    "\n",
    "\n",
    "\n",
    "\n",
    "    #     break"
   ]
  },
  {
   "cell_type": "code",
   "execution_count": null,
   "metadata": {
    "button": false,
    "collapsed": false,
    "deletable": true,
    "new_sheet": false,
    "run_control": {
     "read_only": false
    }
   },
   "outputs": [],
   "source": [
    "for group_name in exp.groups.keys() :\n",
    "    std_plots(group_name)\n",
    "    break"
   ]
  },
  {
   "cell_type": "code",
   "execution_count": null,
   "metadata": {
    "button": false,
    "collapsed": true,
    "deletable": true,
    "new_sheet": false,
    "run_control": {
     "read_only": false
    }
   },
   "outputs": [],
   "source": []
  },
  {
   "cell_type": "code",
   "execution_count": null,
   "metadata": {
    "button": false,
    "collapsed": true,
    "deletable": true,
    "new_sheet": false,
    "run_control": {
     "read_only": false
    }
   },
   "outputs": [],
   "source": []
  }
 ],
 "metadata": {
  "kernelspec": {
   "display_name": "Local Python",
   "language": "python",
   "name": "local"
  },
  "language_info": {
   "codemirror_mode": {
    "name": "ipython",
    "version": 3
   },
   "file_extension": ".py",
   "mimetype": "text/x-python",
   "name": "python",
   "nbconvert_exporter": "python",
   "pygments_lexer": "ipython3",
   "version": "3.7.2"
  }
 },
 "nbformat": 4,
 "nbformat_minor": 2
}
