{
 "cells": [
  {
   "cell_type": "code",
   "execution_count": 1,
   "metadata": {},
   "outputs": [
    {
     "name": "stdout",
     "output_type": "stream",
     "text": [
      "reading in wells : 0.84 seconds\n",
      "all exper init : 1.63 seconds\n"
     ]
    }
   ],
   "source": [
    "%run ./import_apple_pie_loc.ipynb\n",
    "#exp = ap.Exper(pjoin(rh30_path, rh30_dirs[5]))\n",
    "exp = ap.Exper(pjoin(rhabdo_root_path_local, e18_11_09))"
   ]
  },
  {
   "cell_type": "code",
   "execution_count": 2,
   "metadata": {},
   "outputs": [],
   "source": [
    "import ipywidgets \n",
    "import matplotlib.pyplot as plt"
   ]
  },
  {
   "cell_type": "code",
   "execution_count": 3,
   "metadata": {},
   "outputs": [],
   "source": [
    "def col_dict_to_cols(col_dict) :\n",
    "    cols = []\n",
    "    for key in col_dict.keys() :\n",
    "        cols.append(col_dict[key]) \n",
    "    return cols\n",
    "\n",
    "def col_dict_to_rows(col_dict) :\n",
    "    cols = []\n",
    "    for key in col_dict.keys() :\n",
    "        cols.append(col_dict[key]) \n",
    "    rows = ap.ap_utils.rotate(cols)\n",
    "    return rows"
   ]
  },
  {
   "cell_type": "code",
   "execution_count": 4,
   "metadata": {},
   "outputs": [],
   "source": [
    "class group :\n",
    "    def __init__(self, exper, name) :\n",
    "        self.exper = exper\n",
    "        self.name = name\n",
    "        \n",
    "        self.condits = {}\n",
    "        \n",
    "        for condit_tup in self.exper.groups[0][name] :\n",
    "            self.condits[condit_tup] = self.exper.condits[condit_tup]\n",
    "    \n",
    "        self.ctkeys = list(self.condits.keys())\n",
    "        self.cskeys = []\n",
    "        self.ckeys_dict = {}\n",
    "        \n",
    "        \n",
    "        \n",
    "        for t in self.ctkeys :\n",
    "            self.cskeys.append(str(t))\n",
    "            self.ckeys_dict[str(t)] = t\n",
    "    \n",
    "    def __str__(self) :\n",
    "        return self.name\n",
    "    \n",
    "    ## bad practice\n",
    "    def __repr__(self) :\n",
    "        return str(self)"
   ]
  },
  {
   "cell_type": "code",
   "execution_count": 5,
   "metadata": {},
   "outputs": [],
   "source": [
    "groups = exp.groups[0]"
   ]
  },
  {
   "cell_type": "code",
   "execution_count": 6,
   "metadata": {},
   "outputs": [
    {
     "data": {
      "application/vnd.jupyter.widget-view+json": {
       "model_id": "0daee0583d7848c6bbdd93f9ca4e4611",
       "version_major": 2,
       "version_minor": 0
      },
      "text/plain": [
       "Tab(children=(HBox(children=(Select(description='condition', options=(\"('BYL ', 20.0)\", \"('BYL ', 10.0)\", \"('B…"
      ]
     },
     "metadata": {},
     "output_type": "display_data"
    }
   ],
   "source": [
    "def plot_condit(condit_skey) :\n",
    "    for gr in groups.keys() :\n",
    "        g = group(exp,gr) \n",
    "        try :\n",
    "            condit = g.condits[g.ckeys_dict[condit_skey]]\n",
    "            break\n",
    "        except :\n",
    "            pass\n",
    "    plt.plot(condit.t_int,col_dict_to_rows(condit.dists))\n",
    "    \n",
    "def scatter_condit(condit_skey) :\n",
    "    for gr in groups.keys() :\n",
    "        g = group(exp,gr) \n",
    "        try :\n",
    "            condit = g.condits[g.ckeys_dict[condit_skey]]\n",
    "            break\n",
    "        except :\n",
    "            pass\n",
    "    for col in condit.dists.values() :\n",
    "        plt.scatter(condit.t_int,col)\n",
    "\n",
    "def condit_meds(condit_skey) :\n",
    "    for gr in groups.keys() :\n",
    "        g = group(exp,gr) \n",
    "        try :\n",
    "            condit = g.condits[g.ckeys_dict[condit_skey]]\n",
    "            break\n",
    "        except :\n",
    "            pass\n",
    "    condit.make_cen_tens()\n",
    "    plt.scatter(condit.t_int,condit.dist_meds)\n",
    "    ax = plt.gca()\n",
    "    ax.set_ylim((0,20))\n",
    "\n",
    "\n",
    "ffs = []\n",
    "i = 0\n",
    "for gg in groups.keys() :\n",
    "    g = group(exp,gg)\n",
    "    select_condit = ipywidgets.Select(\n",
    "        options = g.cskeys,\n",
    "        value = (g.cskeys[0]),\n",
    "        description='condition'\n",
    "    )\n",
    "\n",
    "    tabs = ipywidgets.Tab() \n",
    "    i += 1\n",
    "    f = ipywidgets.interactive(condit_meds, condit_skey=select_condit)\n",
    "    \n",
    "    ffs.append(ipywidgets.HBox(children=f.children))\n",
    "tabs.children = ffs\n",
    "\n",
    "i = 0\n",
    "for gg in groups.keys() :\n",
    "    g = group(exp,gg)\n",
    "    tabs.set_title(i,g.name)\n",
    "    i+=1\n",
    "display(tabs)\n",
    "\n",
    "select_condit.value = (g.cskeys[1])\n"
   ]
  }
 ],
 "metadata": {
  "kernelspec": {
   "display_name": "Python 3",
   "language": "python",
   "name": "python3"
  },
  "language_info": {
   "codemirror_mode": {
    "name": "ipython",
    "version": 3
   },
   "file_extension": ".py",
   "mimetype": "text/x-python",
   "name": "python",
   "nbconvert_exporter": "python",
   "pygments_lexer": "ipython3",
   "version": "3.7.1"
  }
 },
 "nbformat": 4,
 "nbformat_minor": 2
}
