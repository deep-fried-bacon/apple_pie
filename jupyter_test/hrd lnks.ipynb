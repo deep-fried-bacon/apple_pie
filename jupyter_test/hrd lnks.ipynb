{
 "cells": [
  {
   "cell_type": "code",
   "execution_count": 17,
   "metadata": {},
   "outputs": [],
   "source": [
    "import os\n",
    "import subprocess"
   ]
  },
  {
   "cell_type": "code",
   "execution_count": 2,
   "metadata": {},
   "outputs": [
    {
     "data": {
      "text/plain": [
       "['.DS_Store',\n",
       " '.ipynb_checkpoints',\n",
       " 'InteractiveMatplotlibShowOnHover.ipynb',\n",
       " 'pdDataframes.ipynb',\n",
       " 'pdSeries.ipynb',\n",
       " 'Untitled.ipynb',\n",
       " 'Untitled1.ipynb']"
      ]
     },
     "execution_count": 2,
     "metadata": {},
     "output_type": "execute_result"
    }
   ],
   "source": [
    "os.listdir('.')"
   ]
  },
  {
   "cell_type": "code",
   "execution_count": 3,
   "metadata": {},
   "outputs": [],
   "source": [
    "lab_server_path = '/Volumes/baylieslab/Current Lab Members/'\n",
    "try :\n",
    "    os.listdir(lab_server_path)\n",
    "except :\n",
    "    print('could not access server, try loging in')"
   ]
  },
  {
   "cell_type": "code",
   "execution_count": 11,
   "metadata": {},
   "outputs": [],
   "source": [
    "#os.listdir(lab_server_path)"
   ]
  },
  {
   "cell_type": "code",
   "execution_count": 5,
   "metadata": {},
   "outputs": [],
   "source": [
    "rhabdo_sub_path = ('Whitney/Rhabdomyosarcoma plate movies/' +\n",
    "    'Post-mycoplasma data (starting 9:18:18)/')\n",
    "#os.listdir(lab_server_path + rhabdo_sub_path)"
   ]
  },
  {
   "cell_type": "code",
   "execution_count": 23,
   "metadata": {},
   "outputs": [],
   "source": [
    "rh30 = 'RH30/'\n",
    "rh41 = 'RH41/'\n",
    "rh30_path = lab_server_path + rhabdo_sub_path + rh30\n",
    "rh41_path = lab_server_path + rhabdo_sub_path + rh41\n",
    "a_path = '/Volumes/baylieslab/Current Lab Members/Whitney/Rhabdomyosarcoma plate movies/Post-mycoplasma data (starting 9:18:18)/Amelia'\n"
   ]
  },
  {
   "cell_type": "code",
   "execution_count": 19,
   "metadata": {},
   "outputs": [],
   "source": [
    "#os.listdir(rh30_path)"
   ]
  },
  {
   "cell_type": "code",
   "execution_count": 40,
   "metadata": {},
   "outputs": [],
   "source": [
    "f18_09_18_name = '20180918 (plate upside down)/movies/'\n",
    "f18_09_18 = rh30_path + f18_09_18_name\n",
    "a18_09_18_name = '18-09-18_RH30'\n",
    "a18_09_18 = a_path + '/' + a18_09_18_name + '/'"
   ]
  },
  {
   "cell_type": "code",
   "execution_count": 41,
   "metadata": {},
   "outputs": [
    {
     "name": "stdout",
     "output_type": "stream",
     "text": [
      "ln \"/Volumes/baylieslab/Current Lab Members/Whitney/Rhabdomyosarcoma plate movies/Post-mycoplasma data (starting 9:18:18)/RH30/20180918 (plate upside down)/movies/timelapse 09-19-Scene-066-P1-E08.czi\" \"/Volumes/baylieslab/Current Lab Members/Whitney/Rhabdomyosarcoma plate movies/Post-mycoplasma data (starting 9:18:18)/Amelia/18-09-18_RH30/E08.czi\"\n"
     ]
    }
   ],
   "source": [
    "for f in os.listdir(f18_09_18) :\n",
    "    if f.startswith('timelapse') :\n",
    "        #new_name = a18_09_18_name + '_' + f.split('-')[-1]\n",
    "        new_name = f.split('-')[-1]\n",
    "        print('ln' + ' \"' + f18_09_18 + f + '\" \"'+ a18_09_18 + new_name + '\"')\n",
    "        #subprocess.run(['ln', f18_09_18 + f, a18_09_18 + new_name])\n",
    "        #print(new_name)\n",
    "        break"
   ]
  },
  {
   "cell_type": "code",
   "execution_count": 20,
   "metadata": {},
   "outputs": [],
   "source": [
    "# subprocess.run([])\n",
    "#os.path.abspath('.')"
   ]
  },
  {
   "cell_type": "code",
   "execution_count": null,
   "metadata": {},
   "outputs": [],
   "source": []
  }
 ],
 "metadata": {
  "kernelspec": {
   "display_name": "Python 3",
   "language": "python",
   "name": "python3"
  },
  "language_info": {
   "codemirror_mode": {
    "name": "ipython",
    "version": 3
   },
   "file_extension": ".py",
   "mimetype": "text/x-python",
   "name": "python",
   "nbconvert_exporter": "python",
   "pygments_lexer": "ipython3",
   "version": "3.7.1"
  }
 },
 "nbformat": 4,
 "nbformat_minor": 2
}
