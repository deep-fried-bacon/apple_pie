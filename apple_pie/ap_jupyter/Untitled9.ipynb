{
 "cells": [
  {
   "cell_type": "code",
   "execution_count": 13,
   "metadata": {},
   "outputs": [],
   "source": [
    "import ipywidgets as wids\n",
    "from bqplot import pyplot as plt\n",
    "from IPython.display import display as idisp"
   ]
  },
  {
   "cell_type": "code",
   "execution_count": 26,
   "metadata": {},
   "outputs": [
    {
     "data": {
      "application/vnd.jupyter.widget-view+json": {
       "model_id": "1fea9d5d7b9b4dd883d6f5d4442412d2",
       "version_major": 2,
       "version_minor": 0
      },
      "text/plain": [
       "VBox(children=(Figure(axes=[Axis(scale=LinearScale(), side='bottom'), Axis(orientation='vertical', scale=Linea…"
      ]
     },
     "metadata": {},
     "output_type": "display_data"
    }
   ],
   "source": [
    "butt = plt.plot([1,2,3,4],[1,4,9,16],'o')\n",
    "plt.show()"
   ]
  },
  {
   "cell_type": "code",
   "execution_count": 27,
   "metadata": {},
   "outputs": [
    {
     "data": {
      "text/plain": [
       "True"
      ]
     },
     "execution_count": 27,
     "metadata": {},
     "output_type": "execute_result"
    }
   ],
   "source": [
    "isinstance(butt, wids.Widget)"
   ]
  },
  {
   "cell_type": "code",
   "execution_count": 28,
   "metadata": {},
   "outputs": [],
   "source": [
    "iwid = wids.IntSlider(value=7)\n",
    "# idisp(iwid)\n",
    "hb = wids.HBox()\n",
    "hb.children = (butt,iwid)"
   ]
  },
  {
   "cell_type": "code",
   "execution_count": 29,
   "metadata": {},
   "outputs": [
    {
     "data": {
      "application/vnd.jupyter.widget-view+json": {
       "model_id": "4f498a34a4af433cb5f2d89f4f3edb74",
       "version_major": 2,
       "version_minor": 0
      },
      "text/plain": [
       "HBox(children=(Scatter(colors=['steelblue'], interactions={'hover': 'tooltip'}, scales={'x': LinearScale(), 'y…"
      ]
     },
     "metadata": {},
     "output_type": "display_data"
    }
   ],
   "source": [
    "idisp(hb)"
   ]
  },
  {
   "cell_type": "code",
   "execution_count": 30,
   "metadata": {},
   "outputs": [
    {
     "data": {
      "text/plain": [
       "Scatter(colors=['steelblue'], interactions={'hover': 'tooltip'}, scales={'x': LinearScale(), 'y': LinearScale()}, scales_metadata={'x': {'orientation': 'horizontal', 'dimension': 'x'}, 'y': {'orientation': 'vertical', 'dimension': 'y'}, 'color': {'dimension': 'color'}, 'size': {'dimension': 'size'}, 'opacity': {'dimension': 'opacity'}, 'rotation': {'dimension': 'rotation'}, 'skew': {'dimension': 'skew'}}, tooltip_style={'opacity': 0.9}, x=array([1, 2, 3, 4]), y=array([ 1,  4,  9, 16]))"
      ]
     },
     "metadata": {},
     "output_type": "display_data"
    }
   ],
   "source": [
    "idisp(butt)"
   ]
  },
  {
   "cell_type": "code",
   "execution_count": 32,
   "metadata": {},
   "outputs": [],
   "source": [
    "import bqplot"
   ]
  },
  {
   "cell_type": "code",
   "execution_count": 33,
   "metadata": {},
   "outputs": [
    {
     "data": {
      "text/plain": [
       "dict_keys(['__name__', '__doc__', '__package__', '__loader__', '__spec__', '__path__', '__file__', '__cached__', '__builtins__', 'traits', '_version', 'scales', 'colorschemes', 'marks', 'interacts', 'axes', 'figure', 'Unicode', 'Instance', 'List', 'Dict', 'Enum', 'Float', 'Int', 'TraitError', 'default', 'validate', 'DOMWidget', 'register', 'widget_serialization', 'LayoutTraitType', 'Scale', 'LinearScale', 'Interaction', 'Mark', 'Axis', 'Figure', 'Bool', 'Array', 'Widget', 'Color', 'ColorScale', 'array_serialization', 'array_dimension_bounds', 'register_axis', 'BaseAxis', 'ColorAxis', 'os', 'json', 'warn', 'widgets', 'CallbackDispatcher', 'histogram', 'OrdinalScale', 'Date', 'array_squeeze', 'CATEGORY10', 'register_mark', 'shape', 'Lines', 'FlexLine', 'Scatter', 'Label', 'Hist', 'Boxplot', 'Bars', 'Bins', 'OHLC', 'Pie', 'topo_load', 'Map', 'GridHeatMap', 'HeatMap', 'Graph', 'Image', 'Type', 'Tuple', 'np', 'register_scale', 'GeoScale', 'Mercator', 'Albers', 'AlbersUSA', 'EquiRectangular', 'Orthographic', 'Gnomonic', 'Stereographic', 'LogScale', 'DateScale', 'DateColorScale', 'OrdinalColorScale', 'toolbar', 'PanZoom', 'Toolbar', 'default_tooltip', 'Tooltip', 'version_info', '__version__', '_jupyter_nbextension_paths', 'pyplot'])"
      ]
     },
     "execution_count": 33,
     "metadata": {},
     "output_type": "execute_result"
    }
   ],
   "source": [
    "bqplot.__dict__.keys()"
   ]
  },
  {
   "cell_type": "code",
   "execution_count": 34,
   "metadata": {},
   "outputs": [],
   "source": [
    "t = bqplot.Scatter()"
   ]
  },
  {
   "cell_type": "code",
   "execution_count": 36,
   "metadata": {},
   "outputs": [
    {
     "data": {
      "text/plain": [
       "Scatter(colors=['steelblue'], interactions={'hover': 'tooltip'}, scales_metadata={'x': {'orientation': 'horizontal', 'dimension': 'x'}, 'y': {'orientation': 'vertical', 'dimension': 'y'}, 'color': {'dimension': 'color'}, 'size': {'dimension': 'size'}, 'opacity': {'dimension': 'opacity'}, 'rotation': {'dimension': 'rotation'}, 'skew': {'dimension': 'skew'}}, tooltip_style={'opacity': 0.9})"
      ]
     },
     "metadata": {},
     "output_type": "display_data"
    }
   ],
   "source": [
    "idisp(t)\n"
   ]
  },
  {
   "cell_type": "code",
   "execution_count": 37,
   "metadata": {},
   "outputs": [
    {
     "data": {
      "text/plain": [
       "dict_keys(['_trait_values', '_trait_notifiers', '_trait_validators', '_cross_validation_lock', '_drag_start_handlers', '_drag_handlers', '_drag_end_handlers', '_model_id', '_hover_handlers', '_click_handlers', '_legend_click_handlers', '_legend_hover_handlers', '_element_click_handlers', '_bg_click_handlers'])"
      ]
     },
     "execution_count": 37,
     "metadata": {},
     "output_type": "execute_result"
    }
   ],
   "source": [
    "t.__dict__.keys()"
   ]
  },
  {
   "cell_type": "code",
   "execution_count": 43,
   "metadata": {},
   "outputs": [],
   "source": [
    "# f = bqplot.Figure()\n",
    "f = plt.figure()"
   ]
  },
  {
   "cell_type": "code",
   "execution_count": 44,
   "metadata": {},
   "outputs": [],
   "source": [
    "hb = wids.HBox((iwid,f))"
   ]
  },
  {
   "cell_type": "code",
   "execution_count": 45,
   "metadata": {},
   "outputs": [
    {
     "data": {
      "application/vnd.jupyter.widget-view+json": {
       "model_id": "3a520b00ab604a0aa3980af2ccad7b90",
       "version_major": 2,
       "version_minor": 0
      },
      "text/plain": [
       "HBox(children=(IntSlider(value=7), Figure(fig_margin={'top': 60, 'bottom': 60, 'left': 60, 'right': 60}, layou…"
      ]
     },
     "metadata": {},
     "output_type": "display_data"
    }
   ],
   "source": [
    "idisp(hb)"
   ]
  },
  {
   "cell_type": "code",
   "execution_count": null,
   "metadata": {},
   "outputs": [],
   "source": []
  }
 ],
 "metadata": {
  "kernelspec": {
   "display_name": "Python 3",
   "language": "python",
   "name": "python3"
  },
  "language_info": {
   "codemirror_mode": {
    "name": "ipython",
    "version": 3
   },
   "file_extension": ".py",
   "mimetype": "text/x-python",
   "name": "python",
   "nbconvert_exporter": "python",
   "pygments_lexer": "ipython3",
   "version": "3.7.1"
  }
 },
 "nbformat": 4,
 "nbformat_minor": 2
}
