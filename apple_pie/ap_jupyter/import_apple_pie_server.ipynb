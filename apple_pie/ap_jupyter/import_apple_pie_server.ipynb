{
 "cells": [
  {
   "cell_type": "code",
   "execution_count": 1,
   "metadata": {},
   "outputs": [],
   "source": [
    "import sys\n",
    "import os\n",
    "from os.path import join as pjoin\n",
    "from os.path import abspath\n",
    "sys.path.insert(0, \"../../\")\n",
    "\n"
   ]
  },
  {
   "cell_type": "code",
   "execution_count": 2,
   "metadata": {},
   "outputs": [],
   "source": [
    "import apple_pie as ap\n"
   ]
  },
  {
   "cell_type": "code",
   "execution_count": 3,
   "metadata": {},
   "outputs": [],
   "source": [
    "rhabdo_root_path = '/Volumes/baylieslab/Current Lab Members/Whitney/Rhabdomyosarcoma plate movies/Post-mycoplasma data (starting 9:18:18)'\n",
    "rh30_path = pjoin(rhabdo_root_path,'RH30')"
   ]
  },
  {
   "cell_type": "code",
   "execution_count": 4,
   "metadata": {},
   "outputs": [
    {
     "name": "stdout",
     "output_type": "stream",
     "text": [
      "rh30_dirs = ['20180918 (plate upside down)', '20180927', '20180926', '20181109', '20181107', '20181106', '20180925 (no good?)']\n"
     ]
    }
   ],
   "source": [
    "rh30_dirs = []\n",
    "with  os.scandir(rh30_path) as it :\n",
    "    for e in it :\n",
    "        if e.is_dir() :\n",
    "            rh30_dirs.append(e.name)\n",
    "print('rh30_dirs = {}'.format(rh30_dirs))\n",
    "#print(rh30_dirs)"
   ]
  },
  {
   "cell_type": "code",
   "execution_count": null,
   "metadata": {},
   "outputs": [],
   "source": [
    "rhabdo_root_path_local = '/Users/baylieslab/Documents/Amelia/data/rhabdo'\n",
    "e18_11_09 = '18-11-09'\n"
   ]
  }
 ],
 "metadata": {
  "kernelspec": {
   "display_name": "Python 3",
   "language": "python",
   "name": "python3"
  },
  "language_info": {
   "codemirror_mode": {
    "name": "ipython",
    "version": 3
   },
   "file_extension": ".py",
   "mimetype": "text/x-python",
   "name": "python",
   "nbconvert_exporter": "python",
   "pygments_lexer": "ipython3",
   "version": "3.7.1"
  }
 },
 "nbformat": 4,
 "nbformat_minor": 2
}
